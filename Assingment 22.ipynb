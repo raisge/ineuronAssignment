{
 "cells": [
  {
   "cell_type": "code",
   "execution_count": null,
   "id": "106a3003",
   "metadata": {},
   "outputs": [],
   "source": [
    "\"\"\"\n",
    "1. What is the result of the code, and explain?\n",
    "\n",
    "X = \"iNeuron\"\n",
    "def func():\n",
    "    print(X)\n",
    "func()\n",
    "Ans:\n",
    "\"\"\"\n",
    "result of code : iNeuron\n",
    "fun() is def to x & x is equal to \"iNeuron\""
   ]
  },
  {
   "cell_type": "code",
   "execution_count": null,
   "id": "827a5e9c",
   "metadata": {},
   "outputs": [],
   "source": [
    "\"\"\"\n",
    "2. What is the result of the code, and explain?\n",
    "X = \"iNeuron\"\n",
    "def func():\n",
    "    X = \"NI!\"\n",
    "func()\n",
    "print(X)\n",
    "Ans:\n",
    "\"\"\"\n",
    "result = \"iNeuron\" , Because func() has not given print satatment, print(X) give output of variable of \"X\""
   ]
  },
  {
   "cell_type": "code",
   "execution_count": null,
   "id": "6b044be3",
   "metadata": {},
   "outputs": [],
   "source": [
    "\"\"\"\n",
    "3. What does this code print, and why?\n",
    "X = \"iNeuron\"\n",
    "def func():\n",
    "    X = \"NI!\"\n",
    "    print(X)\n",
    "func()\n",
    "print(X)\n",
    "Ans:\n",
    "\"\"\"\n",
    "NI!\n",
    "iNeuron\n",
    "Because func() and \"X\" has given print statment"
   ]
  },
  {
   "cell_type": "code",
   "execution_count": null,
   "id": "8bfb1fbb",
   "metadata": {},
   "outputs": [],
   "source": [
    "\"\"\"\n",
    "4. What output does this code produce? Why?\n",
    "X = \"iNeuron\"\n",
    "def func():\n",
    "    global X\n",
    "X = \"NI!\"\n",
    "\n",
    "func()\n",
    "print(X)\n",
    "Ans:\n",
    "\"\"\" \n",
    "OUTPUT = \"NI!\" , because while calling \"X\" its variable get change from \"iNeuron\" to \"NI!\""
   ]
  },
  {
   "cell_type": "code",
   "execution_count": null,
   "id": "6a55e11f",
   "metadata": {},
   "outputs": [],
   "source": [
    "\"\"\"\n",
    "5. What about this code—what’s the output, and why?\n",
    "X = \"iNeuron\"\n",
    "def func():\n",
    "    X = \"NI!\"\n",
    "    def nested():\n",
    "       print(X)\n",
    "    nested()\n",
    "\n",
    "func()\n",
    "X\n",
    "\"\"\"\n",
    "\n",
    "The output of the code is NI.\n",
    "the reason for this output is if a function wants to access a variable,\n",
    "if its not available in its localscope. it looks for the variable in its global scope. \n",
    "similarly here also function nested looks for variable X in its global scope.\n",
    "hence the output of the code is NI"
   ]
  },
  {
   "cell_type": "code",
   "execution_count": null,
   "id": "a1c9ce3a",
   "metadata": {},
   "outputs": [],
   "source": [
    "\"\"\"\n",
    "6. How about this code: what is its output in Python 3, and explain?\n",
    "def func():\n",
    "    X = \"NI!\"\n",
    "    def nested():\n",
    "        nonlocal X\n",
    "    X = \"spam\"\n",
    "    nested()\n",
    "    print(X)\n",
    "func()\n",
    "Ans:\n",
    "\"\"\"\n",
    "OUTPUT = \"spam\"   nonlocal keword is use to declare a variable is not local \n",
    "therfor \"X\" get change in \"spam\""
   ]
  }
 ],
 "metadata": {
  "kernelspec": {
   "display_name": "Python 3 (ipykernel)",
   "language": "python",
   "name": "python3"
  },
  "language_info": {
   "codemirror_mode": {
    "name": "ipython",
    "version": 3
   },
   "file_extension": ".py",
   "mimetype": "text/x-python",
   "name": "python",
   "nbconvert_exporter": "python",
   "pygments_lexer": "ipython3",
   "version": "3.9.12"
  }
 },
 "nbformat": 4,
 "nbformat_minor": 5
}
