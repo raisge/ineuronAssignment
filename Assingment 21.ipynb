{
 "cells": [
  {
   "cell_type": "code",
   "execution_count": 1,
   "id": "a959e16d",
   "metadata": {},
   "outputs": [
    {
     "name": "stdout",
     "output_type": "stream",
     "text": [
      "Current date: 2023 02 09\n"
     ]
    }
   ],
   "source": [
    "\"\"\"\n",
    "1. Add the current date to the text file today.txt as a string.\n",
    "Ans:\n",
    "\"\"\"\n",
    "from datetime import date, datetime, time\n",
    "import os\n",
    "today=datetime.today()\n",
    "currentday=today.strftime('%Y %m %d')\n",
    "print(\"Current date:\",currentday)\n",
    "f=open('today.txt','w+')\n",
    "f.write(currentday)\n",
    "f.close()"
   ]
  },
  {
   "cell_type": "code",
   "execution_count": 7,
   "id": "9f2428e4",
   "metadata": {},
   "outputs": [],
   "source": [
    "\"\"\"\n",
    "2. Read the text file today.txt into the string today_string\n",
    "Ans:\n",
    "\"\"\"\n",
    "\n",
    "text = open (\"today.txt\",\"r\")\n",
    "today_string = text.read()\n",
    "text.close()"
   ]
  },
  {
   "cell_type": "code",
   "execution_count": 9,
   "id": "14e286ec",
   "metadata": {},
   "outputs": [
    {
     "data": {
      "text/plain": [
       "'2023 02 09'"
      ]
     },
     "execution_count": 9,
     "metadata": {},
     "output_type": "execute_result"
    }
   ],
   "source": [
    "today_string"
   ]
  },
  {
   "cell_type": "code",
   "execution_count": 10,
   "id": "78014d7c",
   "metadata": {},
   "outputs": [
    {
     "name": "stdout",
     "output_type": "stream",
     "text": [
      "Parseing date from today_string: 2023-02-09\n"
     ]
    }
   ],
   "source": [
    "\"\"\"\n",
    "3. Parse the date from today_string.\n",
    "Ans:\n",
    "\"\"\"\n",
    "print(\"Parseing date from today_string:\",format(datetime.date(datetime.strptime(today_string, '%Y %m %d'))))"
   ]
  },
  {
   "cell_type": "code",
   "execution_count": 11,
   "id": "5c8ddbb7",
   "metadata": {},
   "outputs": [
    {
     "name": "stdout",
     "output_type": "stream",
     "text": [
      "C:\\Users\\Admin\\INEURON ASSIGNMENT\\.ipynb_checkpoints\n",
      "C:\\Users\\Admin\\INEURON ASSIGNMENT\\Assigent 13.ipynb\n",
      "C:\\Users\\Admin\\INEURON ASSIGNMENT\\Assigment 8.ipynb\n",
      "C:\\Users\\Admin\\INEURON ASSIGNMENT\\Assigment 9.ipynb\n",
      "C:\\Users\\Admin\\INEURON ASSIGNMENT\\Assignment 1.ipynb\n",
      "C:\\Users\\Admin\\INEURON ASSIGNMENT\\Assignment 10.ipynb\n",
      "C:\\Users\\Admin\\INEURON ASSIGNMENT\\Assignment 12.ipynb\n",
      "C:\\Users\\Admin\\INEURON ASSIGNMENT\\Assignment 14.ipynb\n",
      "C:\\Users\\Admin\\INEURON ASSIGNMENT\\Assignment 15.ipynb\n",
      "C:\\Users\\Admin\\INEURON ASSIGNMENT\\Assignment 16.ipynb\n",
      "C:\\Users\\Admin\\INEURON ASSIGNMENT\\Assignment 17.ipynb\n",
      "C:\\Users\\Admin\\INEURON ASSIGNMENT\\Assignment 19.ipynb\n",
      "C:\\Users\\Admin\\INEURON ASSIGNMENT\\Assignment 2.ipynb\n",
      "C:\\Users\\Admin\\INEURON ASSIGNMENT\\Assignment 3.ipynb\n",
      "C:\\Users\\Admin\\INEURON ASSIGNMENT\\Assignment 4.ipynb\n",
      "C:\\Users\\Admin\\INEURON ASSIGNMENT\\Assignment 5.ipynb\n",
      "C:\\Users\\Admin\\INEURON ASSIGNMENT\\Assignment 6.ipynb\n",
      "C:\\Users\\Admin\\INEURON ASSIGNMENT\\Assingment 11.ipynb\n",
      "C:\\Users\\Admin\\INEURON ASSIGNMENT\\Assingment 17.ipynb\n",
      "C:\\Users\\Admin\\INEURON ASSIGNMENT\\Assingment 18.ipynb\n",
      "C:\\Users\\Admin\\INEURON ASSIGNMENT\\Assingment 20.ipynb\n",
      "C:\\Users\\Admin\\INEURON ASSIGNMENT\\Assingment 21.ipynb\n",
      "C:\\Users\\Admin\\INEURON ASSIGNMENT\\books.csv\n",
      "C:\\Users\\Admin\\INEURON ASSIGNMENT\\books.db\n",
      "C:\\Users\\Admin\\INEURON ASSIGNMENT\\programming Assignment 1.ipynb\n",
      "C:\\Users\\Admin\\INEURON ASSIGNMENT\\Programming Assignment 10.ipynb\n",
      "C:\\Users\\Admin\\INEURON ASSIGNMENT\\Programming Assignment 2.ipynb\n",
      "C:\\Users\\Admin\\INEURON ASSIGNMENT\\Programming assignment 4.ipynb\n",
      "C:\\Users\\Admin\\INEURON ASSIGNMENT\\Programming assignment 6.ipynb\n",
      "C:\\Users\\Admin\\INEURON ASSIGNMENT\\Programming Assignment 7.ipynb\n",
      "C:\\Users\\Admin\\INEURON ASSIGNMENT\\Programming Assignment 8.ipynb\n",
      "C:\\Users\\Admin\\INEURON ASSIGNMENT\\Programming Assignment 9.ipynb\n",
      "C:\\Users\\Admin\\INEURON ASSIGNMENT\\Programming Assingment 3.ipynb\n",
      "C:\\Users\\Admin\\INEURON ASSIGNMENT\\Programming Assingment 5.ipynb\n",
      "C:\\Users\\Admin\\INEURON ASSIGNMENT\\RJ\n",
      "C:\\Users\\Admin\\INEURON ASSIGNMENT\\test.txt\n",
      "C:\\Users\\Admin\\INEURON ASSIGNMENT\\today.txt\n",
      "C:\\Users\\Admin\\INEURON ASSIGNMENT\\Untitled.ipynb\n",
      "C:\\Users\\Admin\\INEURON ASSIGNMENT\\Untitled1.ipynb\n",
      "C:\\Users\\Admin\\INEURON ASSIGNMENT\\zoo.py\n",
      "C:\\Users\\Admin\\INEURON ASSIGNMENT\\__pycache__\n"
     ]
    }
   ],
   "source": [
    "\"\"\"\n",
    "4. List the files in your current directory\n",
    "Ans:\n",
    "\"\"\"\n",
    "import os\n",
    "import shutil\n",
    "for files in os.listdir():\n",
    "    print(os.path.join(os.getcwd(),files))"
   ]
  },
  {
   "cell_type": "code",
   "execution_count": 12,
   "id": "40aa7bca",
   "metadata": {},
   "outputs": [
    {
     "name": "stdout",
     "output_type": "stream",
     "text": [
      "['.ipynb_checkpoints', 'Assigent 13.ipynb', 'Assigment 8.ipynb', 'Assigment 9.ipynb', 'Assignment 1.ipynb', 'Assignment 10.ipynb', 'Assignment 12.ipynb', 'Assignment 14.ipynb', 'Assignment 15.ipynb', 'Assignment 16.ipynb', 'Assignment 17.ipynb', 'Assignment 19.ipynb', 'Assignment 2.ipynb', 'Assignment 3.ipynb', 'Assignment 4.ipynb', 'Assignment 5.ipynb', 'Assignment 6.ipynb', 'Assingment 11.ipynb', 'Assingment 17.ipynb', 'Assingment 18.ipynb', 'Assingment 20.ipynb', 'Assingment 21.ipynb', 'books.csv', 'books.db', 'programming Assignment 1.ipynb', 'Programming Assignment 10.ipynb', 'Programming Assignment 2.ipynb', 'Programming assignment 4.ipynb', 'Programming assignment 6.ipynb', 'Programming Assignment 7.ipynb', 'Programming Assignment 8.ipynb', 'Programming Assignment 9.ipynb', 'Programming Assingment 3.ipynb', 'Programming Assingment 5.ipynb', 'RJ', 'test.txt', 'today.txt', 'Untitled.ipynb', 'Untitled1.ipynb', 'zoo.py', '__pycache__']\n"
     ]
    }
   ],
   "source": [
    "\"\"\"\n",
    "5. Create a list of all of the files in your parent directory (minimum five files should be available).\n",
    "Ans:\n",
    "\"\"\"\n",
    "import os\n",
    "import shutil\n",
    "file = []\n",
    "for files in os.listdir():\n",
    "    file.append(files)  \n",
    "print(file)"
   ]
  },
  {
   "cell_type": "code",
   "execution_count": 16,
   "id": "37f12da3",
   "metadata": {},
   "outputs": [],
   "source": [
    "\"\"\"\n",
    "6. Use multiprocessing to create three separate processes. Make each one wait a random number of\n",
    "seconds between one and five, print the current time, and then exit.\n",
    "Ans:\n",
    "\"\"\"\n",
    "import multiprocessing\n",
    "import time \n",
    "import random\n",
    "import datetime\n",
    "\n",
    "def procOne():\n",
    "    print(f'Proc_one_Starttime -> {datetime.datetime.now()}')\n",
    "    time.sleep(random.randint(1,5))\n",
    "    print(f'Proc_one_Endtime -> {datetime.datetime.now()}')\n",
    "    \n",
    "def procTwo():\n",
    "    print(f'Proc_two_Starttime -> {datetime.datetime.now()}')\n",
    "    time.sleep(random.randint(1,5))\n",
    "    print(f'Proc_two_Endtime -> {datetime.datetime.now()}')\n",
    "\n",
    "def procThree():\n",
    "    print(f'Proc_two_Starttime -> {datetime.datetime.now()}')\n",
    "    time.sleep(random.randint(1,5))\n",
    "    print(f'Proc_two_Endtime -> {datetime.datetime.now()}')\n",
    "    \n",
    "if __name__ == \"__main__\":    \n",
    "    p1 = multiprocessing.Process(target=procOne)\n",
    "    p2 = multiprocessing.Process(target=procTwo)\n",
    "    p3 = multiprocessing.Process(target=procThree)\n",
    "\n",
    "    p1.start()\n",
    "    p2.start()\n",
    "    p3.start()\n",
    "\n",
    "    p1.join()\n",
    "    p2.join()\n",
    "    p3.join()"
   ]
  },
  {
   "cell_type": "code",
   "execution_count": 13,
   "id": "dbd03467",
   "metadata": {},
   "outputs": [
    {
     "name": "stdout",
     "output_type": "stream",
     "text": [
      "My Data of Birth is 2000-09-27\n"
     ]
    }
   ],
   "source": [
    "\"\"\"\n",
    "7. Create a date object of your day of birth.?\n",
    "Ans:\n",
    "\"\"\"\n",
    "from datetime import timedelta, date, datetime\n",
    "dateofbirth = date(2000,9,27)\n",
    "print(\"My Data of Birth is {}\".format(dateofbirth))"
   ]
  },
  {
   "cell_type": "code",
   "execution_count": 14,
   "id": "8c05a3bb",
   "metadata": {},
   "outputs": [
    {
     "name": "stdout",
     "output_type": "stream",
     "text": [
      "Week day of my Date of Birth is Wednesday\n"
     ]
    }
   ],
   "source": [
    "\"\"\"\n",
    "8. What day of the week was your day of birth?\n",
    "Ans:\n",
    "\"\"\"\n",
    "week = dateofbirth.strftime('%A')\n",
    "print(\"Week day of my Date of Birth is {}\".format(week))\n"
   ]
  },
  {
   "cell_type": "code",
   "execution_count": 15,
   "id": "55cf3727",
   "metadata": {},
   "outputs": [
    {
     "name": "stdout",
     "output_type": "stream",
     "text": [
      "After 10,000 days from Date of Birth it will be 2003-06-24\n"
     ]
    }
   ],
   "source": [
    "\"\"\"\n",
    "9. When will you be (or when were you) 10,000 days old\n",
    "Ans:\n",
    "\"\"\"\n",
    "old = dateofbirth + timedelta(days=1000)\n",
    "\n",
    "print(\"After 10,000 days from Date of Birth it will be {}\".format(old))"
   ]
  },
  {
   "cell_type": "code",
   "execution_count": null,
   "id": "b67ac9a2",
   "metadata": {},
   "outputs": [],
   "source": []
  }
 ],
 "metadata": {
  "kernelspec": {
   "display_name": "Python 3 (ipykernel)",
   "language": "python",
   "name": "python3"
  },
  "language_info": {
   "codemirror_mode": {
    "name": "ipython",
    "version": 3
   },
   "file_extension": ".py",
   "mimetype": "text/x-python",
   "name": "python",
   "nbconvert_exporter": "python",
   "pygments_lexer": "ipython3",
   "version": "3.9.12"
  }
 },
 "nbformat": 4,
 "nbformat_minor": 5
}
