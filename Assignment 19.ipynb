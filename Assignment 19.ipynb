{
 "cells": [
  {
   "cell_type": "code",
   "execution_count": 6,
   "id": "b0cedfc0",
   "metadata": {},
   "outputs": [
    {
     "name": "stdout",
     "output_type": "stream",
     "text": [
      "<class '__main__.thing'>\n"
     ]
    }
   ],
   "source": [
    "\"\"\"\n",
    "1. Make a class called Thing with no contents and print it. Then, create an object called example\n",
    "from this class and also print it. Are the printed values the same or different?\n",
    "Ans:\n",
    "\"\"\"\n",
    "class thing:\n",
    "    pass\n",
    "print(thing)"
   ]
  },
  {
   "cell_type": "code",
   "execution_count": 8,
   "id": "fa29451d",
   "metadata": {},
   "outputs": [
    {
     "name": "stdout",
     "output_type": "stream",
     "text": [
      "<__main__.thing object at 0x00000170E8B36460>\n"
     ]
    }
   ],
   "source": [
    "example=thing()\n",
    "print(example)"
   ]
  },
  {
   "cell_type": "code",
   "execution_count": 9,
   "id": "f4527e54",
   "metadata": {},
   "outputs": [
    {
     "name": "stdout",
     "output_type": "stream",
     "text": [
      "abc\n"
     ]
    }
   ],
   "source": [
    "\"\"\"\n",
    "2. Create a new class called Thing2 and add the value 'abc' to the letters class attribute. \n",
    "Letters should be printed.\n",
    "Ans:\n",
    "\"\"\"\n",
    "class Thing2:\n",
    "    letters=(\"abc\")\n",
    "print(Thing2.letters)"
   ]
  },
  {
   "cell_type": "code",
   "execution_count": 10,
   "id": "6c99245e",
   "metadata": {},
   "outputs": [],
   "source": [
    "\"\"\"\n",
    "3. Make yet another class called, of course, Thing3. This time, assign the value xyz to an instance\n",
    "(object) attribute called letters. Print letters. Do you need to make an object from the class to do\n",
    "this?\n",
    "Ans:\n",
    "\"\"\"\n",
    "class Thing3:\n",
    "    def __init__(self):\n",
    "        self.letters=\"xyz\"\n",
    "        "
   ]
  },
  {
   "cell_type": "code",
   "execution_count": 13,
   "id": "b41557aa",
   "metadata": {},
   "outputs": [
    {
     "ename": "AttributeError",
     "evalue": "type object 'Thing3' has no attribute 'letters'",
     "output_type": "error",
     "traceback": [
      "\u001b[1;31m---------------------------------------------------------------------------\u001b[0m",
      "\u001b[1;31mAttributeError\u001b[0m                            Traceback (most recent call last)",
      "Input \u001b[1;32mIn [13]\u001b[0m, in \u001b[0;36m<cell line: 1>\u001b[1;34m()\u001b[0m\n\u001b[1;32m----> 1\u001b[0m \u001b[38;5;28mprint\u001b[39m(\u001b[43mThing3\u001b[49m\u001b[38;5;241;43m.\u001b[39;49m\u001b[43mletters\u001b[49m)\n",
      "\u001b[1;31mAttributeError\u001b[0m: type object 'Thing3' has no attribute 'letters'"
     ]
    }
   ],
   "source": [
    "print(Thing3.letters)"
   ]
  },
  {
   "cell_type": "code",
   "execution_count": 14,
   "id": "4de51d02",
   "metadata": {},
   "outputs": [
    {
     "name": "stdout",
     "output_type": "stream",
     "text": [
      "Hydrogen\n",
      "H\n",
      "1\n"
     ]
    }
   ],
   "source": [
    "\"\"\"\n",
    "4. Create an Element class with the instance attributes name, symbol, and number. Create a class\n",
    "object with the values 'Hydrogen','H' and 1.\n",
    "Ans:\n",
    "\"\"\"\n",
    "class Element:\n",
    "    def __init__(self,name,symbol,number):\n",
    "        self.name = name\n",
    "        self.symbol=symbol\n",
    "        self.number=number\n",
    "Object = Element(\"Hydrogen\",\"H\",1)        \n",
    "\n",
    "print(Object.name)\n",
    "print(Object.symbol)\n",
    "print(Object.number)"
   ]
  },
  {
   "cell_type": "code",
   "execution_count": 15,
   "id": "4781c2bd",
   "metadata": {},
   "outputs": [],
   "source": [
    "\"\"\"\n",
    "5. Make a dictionary with these keys and values: name:Hydrogen,symbol:H,number: 1. Then,\n",
    "create an object called hydrogen from class Element using this dictionary.\n",
    "Ans:\n",
    "\"\"\"\n",
    "\n",
    "dic={\"name\":\"Hydrogen\",\"symbol\":\"H\",\"number\":1}\n",
    "hydrogen=Element(dic['name'],dic['symbol'],dic['number'])"
   ]
  },
  {
   "cell_type": "code",
   "execution_count": 16,
   "id": "114f0ff2",
   "metadata": {},
   "outputs": [
    {
     "data": {
      "text/plain": [
       "1"
      ]
     },
     "execution_count": 16,
     "metadata": {},
     "output_type": "execute_result"
    }
   ],
   "source": [
    "hydrogen.number"
   ]
  },
  {
   "cell_type": "code",
   "execution_count": 17,
   "id": "097aa630",
   "metadata": {},
   "outputs": [],
   "source": [
    "\"\"\"\n",
    "6. For the Element class, define a method called dump() that prints the values of the object’s\n",
    "attributes (name, symbol, and number). Create the hydrogen object from this new definition and\n",
    "use dump() to print its attributes.\n",
    "Ans:\n",
    "\"\"\"\n",
    "class Element:\n",
    "    def __init__(self,name,symbol,number):\n",
    "        self.name = name\n",
    "        self.symbol=symbol\n",
    "        self.number=number\n",
    "        \n",
    "    def dump(self):\n",
    "        return self.name,self.symbol,self.number\n",
    "    \n",
    "hydrogen = Element(\"Hydrogen\",\"H\",1)    "
   ]
  },
  {
   "cell_type": "code",
   "execution_count": 18,
   "id": "df60c0df",
   "metadata": {},
   "outputs": [
    {
     "data": {
      "text/plain": [
       "('Hydrogen', 'H', 1)"
      ]
     },
     "execution_count": 18,
     "metadata": {},
     "output_type": "execute_result"
    }
   ],
   "source": [
    "hydrogen.dump()"
   ]
  },
  {
   "cell_type": "code",
   "execution_count": 19,
   "id": "80621bcc",
   "metadata": {},
   "outputs": [],
   "source": [
    "\"\"\"\n",
    "7. Call print(hydrogen). In the definition of Element, change the name of method dump to __str__,\n",
    "create a new hydrogen object, and call print(hydrogen) again.\n",
    "Ans:\n",
    "\"\"\"\n",
    "class Element:\n",
    "    def __init__(self,name,symbol,number):\n",
    "        self.name = name\n",
    "        self.symbol=symbol\n",
    "        self.number=number\n",
    "        \n",
    "    def dump(self):\n",
    "        return self.name,self.symbol,self.number\n",
    "    \n",
    "hydrogen = Element(\"Hydrogen\",\"H\",1)    \n"
   ]
  },
  {
   "cell_type": "code",
   "execution_count": 20,
   "id": "320c2ac1",
   "metadata": {},
   "outputs": [
    {
     "name": "stdout",
     "output_type": "stream",
     "text": [
      "<__main__.Element object at 0x00000170E97E7D90>\n"
     ]
    }
   ],
   "source": [
    "print(hydrogen)"
   ]
  },
  {
   "cell_type": "code",
   "execution_count": 21,
   "id": "967d2596",
   "metadata": {},
   "outputs": [],
   "source": [
    "class Element:\n",
    "    def __init__(self,name,symbol,number):\n",
    "        self.name = name\n",
    "        self.symbol=symbol\n",
    "        self.number=number\n",
    "        \n",
    "    def __str__(self):\n",
    "        return  f\"{self.name},{self.symbol},{self.number}\"\n",
    "    \n",
    "hydrogen = Element(\"Hydrogen\",\"H\",1)    "
   ]
  },
  {
   "cell_type": "code",
   "execution_count": 22,
   "id": "d05164f1",
   "metadata": {},
   "outputs": [
    {
     "name": "stdout",
     "output_type": "stream",
     "text": [
      "Hydrogen,H,1\n"
     ]
    }
   ],
   "source": [
    "print(hydrogen)"
   ]
  },
  {
   "cell_type": "code",
   "execution_count": 23,
   "id": "0b0fe06f",
   "metadata": {},
   "outputs": [],
   "source": [
    "\"\"\"\n",
    "8. Modify Element to make the attributes name, symbol, and number private. Define a getter\n",
    "property for each to return its value.\n",
    "Ans:\n",
    "\"\"\"\n",
    "class Element:\n",
    "    def __init__(self,name,symbol,number):\n",
    "        self.__name = name\n",
    "        self.__symbol=symbol\n",
    "        self.__number=number\n",
    "        \n",
    "    @property    \n",
    "    def name(self):\n",
    "        return (self.__name)\n",
    "    @property\n",
    "    def symbol(self):\n",
    "        return (self.__symbol)\n",
    "    @property\n",
    "    def number(self):\n",
    "        return (self.__number)\n",
    "    \n",
    "hydrogen = Element(\"Hydrogen\",\"H\",1)  "
   ]
  },
  {
   "cell_type": "code",
   "execution_count": 24,
   "id": "86f8ab7d",
   "metadata": {},
   "outputs": [
    {
     "data": {
      "text/plain": [
       "'Hydrogen'"
      ]
     },
     "execution_count": 24,
     "metadata": {},
     "output_type": "execute_result"
    }
   ],
   "source": [
    "hydrogen.name"
   ]
  },
  {
   "cell_type": "code",
   "execution_count": 25,
   "id": "16df742e",
   "metadata": {},
   "outputs": [],
   "source": [
    "\"\"\"\n",
    "9. Define three classes: Bear, Rabbit, and Octothorpe. For each, define only one method: eats(). This\n",
    "should return berries(Bear),clover(Rabbit), or campers(Octothorpe). Create one object from\n",
    "each and print what it eats.\n",
    "Ans:\n",
    "\"\"\"\n",
    "class Bear:\n",
    "    def eat(self):\n",
    "        return \"berries\"\n",
    "class Rabbit:\n",
    "     def eat(self):\n",
    "        return \"clover\"\n",
    "class Octothorepe:\n",
    "     def eat(self):\n",
    "        return \"camper\"\n",
    "\n",
    "b=Bear()\n",
    "r=Rabbit()\n",
    "o=Octothorepe()\n"
   ]
  },
  {
   "cell_type": "code",
   "execution_count": 26,
   "id": "563e7f70",
   "metadata": {},
   "outputs": [
    {
     "data": {
      "text/plain": [
       "'berries'"
      ]
     },
     "execution_count": 26,
     "metadata": {},
     "output_type": "execute_result"
    }
   ],
   "source": [
    "b.eat()"
   ]
  },
  {
   "cell_type": "code",
   "execution_count": 27,
   "id": "9c37d949",
   "metadata": {},
   "outputs": [
    {
     "data": {
      "text/plain": [
       "'clover'"
      ]
     },
     "execution_count": 27,
     "metadata": {},
     "output_type": "execute_result"
    }
   ],
   "source": [
    "r.eat()"
   ]
  },
  {
   "cell_type": "code",
   "execution_count": 28,
   "id": "d62ff2fb",
   "metadata": {},
   "outputs": [
    {
     "data": {
      "text/plain": [
       "'camper'"
      ]
     },
     "execution_count": 28,
     "metadata": {},
     "output_type": "execute_result"
    }
   ],
   "source": [
    "o.eat()"
   ]
  },
  {
   "cell_type": "code",
   "execution_count": 29,
   "id": "dd592f20",
   "metadata": {},
   "outputs": [],
   "source": [
    "\"\"\"\n",
    "10. Define these classes: Laser, Claw, and SmartPhone. Each has only one method: does(). This\n",
    "returns disintegrate(Laser),crush(Claw), or ring (SmartPhone). Then, define the class Robot that\n",
    "has one instance (object) of each of these. Define a does() method for the Robot that prints what its\n",
    "component objects do.\n",
    "Ans:\n",
    "\"\"\"\n",
    "class Laser:\n",
    "    def does(self):\n",
    "        return \"disintegrate\"\n",
    "\n",
    "class Claw:\n",
    "    def does(self):\n",
    "        return \"crush\"\n",
    "        \n",
    "class Smartphone:\n",
    "    def does(self):\n",
    "        return 'ring'\n",
    "\n",
    "class robot:\n",
    "    def __init__(self):\n",
    "        self.Laser=Laser()\n",
    "        self.Claw=Claw()\n",
    "        self.Smartphone=Smartphone()\n",
    "        \n",
    "    def does(self):\n",
    "         return '''I have many attachments:\n",
    "        My laser, to %s.\n",
    "        My claw, to %s.\n",
    "        My smartphone, to %s.''' % (self.Laser.does(),self.Claw.does(),self.Smartphone.does())\n",
    "      "
   ]
  },
  {
   "cell_type": "code",
   "execution_count": 30,
   "id": "301342bf",
   "metadata": {},
   "outputs": [],
   "source": [
    "r=robot()"
   ]
  },
  {
   "cell_type": "code",
   "execution_count": 31,
   "id": "e9abaaab",
   "metadata": {},
   "outputs": [
    {
     "data": {
      "text/plain": [
       "'I have many attachments:\\n        My laser, to disintegrate.\\n        My claw, to crush.\\n        My smartphone, to ring.'"
      ]
     },
     "execution_count": 31,
     "metadata": {},
     "output_type": "execute_result"
    }
   ],
   "source": [
    "r.does()"
   ]
  },
  {
   "cell_type": "code",
   "execution_count": null,
   "id": "77e1366e",
   "metadata": {},
   "outputs": [],
   "source": []
  },
  {
   "cell_type": "code",
   "execution_count": null,
   "id": "d022982a",
   "metadata": {},
   "outputs": [],
   "source": []
  }
 ],
 "metadata": {
  "kernelspec": {
   "display_name": "Python 3 (ipykernel)",
   "language": "python",
   "name": "python3"
  },
  "language_info": {
   "codemirror_mode": {
    "name": "ipython",
    "version": 3
   },
   "file_extension": ".py",
   "mimetype": "text/x-python",
   "name": "python",
   "nbconvert_exporter": "python",
   "pygments_lexer": "ipython3",
   "version": "3.9.12"
  }
 },
 "nbformat": 4,
 "nbformat_minor": 5
}
