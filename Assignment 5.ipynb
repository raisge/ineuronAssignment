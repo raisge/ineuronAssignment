{
 "cells": [
  {
   "cell_type": "code",
   "execution_count": null,
   "id": "3335b3ad",
   "metadata": {},
   "outputs": [],
   "source": [
    "1. What does an empty dictionarys code look like?\n",
    "Ans:\n",
    "    {}\n"
   ]
  },
  {
   "cell_type": "code",
   "execution_count": null,
   "id": "f865d1c1",
   "metadata": {},
   "outputs": [],
   "source": [
    "2. What is the value of a dictionary value with the key 'foo' and the value 42?\n",
    "Ans:\n",
    "    {'foo':42}"
   ]
  },
  {
   "cell_type": "code",
   "execution_count": null,
   "id": "576724fc",
   "metadata": {},
   "outputs": [],
   "source": [
    "3. What is the most significant distinction between a dictionary and a list?\n",
    "Ans: \n",
    "    In dictionary element are stored in key value pair,element are not maintain in order\n",
    "    In list element are stored in index value pair,element are maintain in order"
   ]
  },
  {
   "cell_type": "code",
   "execution_count": null,
   "id": "bfb3081d",
   "metadata": {},
   "outputs": [],
   "source": [
    "4. What happens if you try to access spam['foo'] if spam is {'bar': 100}?\n",
    "Ans:\n",
    "    Get a keyError Error message\n",
    "    "
   ]
  },
  {
   "cell_type": "code",
   "execution_count": null,
   "id": "9a268d48",
   "metadata": {},
   "outputs": [],
   "source": [
    "5. If a dictionary is stored in spam, what is the difference between the expressions 'cat' in spam and 'cat' in spam.key()?\n",
    "Ans:\n",
    "    There is no difference.\n",
    "    operator check wheather a value exists as a key in a dictionary"
   ]
  },
  {
   "cell_type": "code",
   "execution_count": null,
   "id": "e9480b9d",
   "metadata": {},
   "outputs": [],
   "source": [
    "6. If a dictionary is stored in spam, what is the difference between the expressions 'cat' in spam and 'cat' in spam.value()?\n",
    "Ans:\n",
    "    spam will check weather there is a 'cat' key in a dictionay\n",
    "    \"cat\" in spam.value() check weather there is a value 'cat' for ones of the key in a spam"
   ]
  },
  {
   "cell_type": "code",
   "execution_count": null,
   "id": "088422a7",
   "metadata": {},
   "outputs": [],
   "source": [
    "7. What is a shortcut for the following code?\n",
    "if 'colour' not in spam :\n",
    "spam('colour')='black'\n",
    "Ans:\n",
    "    spam.setdefault(\"colour\",\"black\")\n",
    "\n"
   ]
  },
  {
   "cell_type": "code",
   "execution_count": null,
   "id": "00f16883",
   "metadata": {},
   "outputs": [],
   "source": [
    "8. How do you 'pretty print' dictionary values using which module and function?\n",
    "Ans:\n",
    "    import pprint\n",
    "    pprint.pprint()"
   ]
  }
 ],
 "metadata": {
  "kernelspec": {
   "display_name": "Python 3 (ipykernel)",
   "language": "python",
   "name": "python3"
  },
  "language_info": {
   "codemirror_mode": {
    "name": "ipython",
    "version": 3
   },
   "file_extension": ".py",
   "mimetype": "text/x-python",
   "name": "python",
   "nbconvert_exporter": "python",
   "pygments_lexer": "ipython3",
   "version": "3.9.12"
  }
 },
 "nbformat": 4,
 "nbformat_minor": 5
}
