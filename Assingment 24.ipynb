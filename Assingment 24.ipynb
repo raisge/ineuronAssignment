{
 "cells": [
  {
   "cell_type": "code",
   "execution_count": null,
   "id": "4b39e72e",
   "metadata": {},
   "outputs": [],
   "source": [
    "1. What is the relationship between def statements and lambda expressions ?\n",
    "Ans:\n",
    "    \n",
    "def statment = 1.Easy to interpret\n",
    "               2.Can consists of any number of execution statements inside the function definition\n",
    "               3.To return an object from the function, return should be explicitly defined\n",
    "               4.Execution time is relatively slower for the same operation performed using lambda functions\n",
    "               5.Defined using the keyword def and holds a function name in the local namespace\n",
    "\n",
    "lambda =      1. Interpretation might be tricky\n",
    "              2. The limited operation can be performed using lambda functions\n",
    "              3. No need of using the return statement\n",
    "              4. Execution time of the program is fast for the same operation\n",
    "              5.Defined using the keyword lambda and does not compulsorily hold a function name in the local namespace"
   ]
  },
  {
   "cell_type": "code",
   "execution_count": null,
   "id": "719607be",
   "metadata": {},
   "outputs": [],
   "source": [
    "2. What is the benefit of lambda?\n",
    "Ans: Lambda helps you use a function only once, and\n",
    "    hence, avoids cluttering up the code with function definitions. \n",
    "    In short, Python's lambda keyword lets you define a function in a single line of code and use it immediately"
   ]
  },
  {
   "cell_type": "code",
   "execution_count": null,
   "id": "f03b84a9",
   "metadata": {},
   "outputs": [],
   "source": [
    "3. Compare and contrast map, filter, and reduce.\n",
    "Ans:\n",
    "    map =     Using map you iterate the elements, and for each element you return an element you want.\n",
    "\n",
    "    reduce =  Using an array as an input, you can get one single element \n",
    "              (let's say an Object, or a Number, or another Array)\n",
    "              based on the callback function. which gets the accumulator and current_element parameters\n",
    "               \n",
    "    filter = function that allows you to process an iterable and extract those items that satisfy a given condition.\n",
    "     "
   ]
  },
  {
   "cell_type": "code",
   "execution_count": null,
   "id": "b4225773",
   "metadata": {},
   "outputs": [],
   "source": [
    "4. What are function annotations, and how are they used?\n",
    "Ans:\n",
    "    Function annotations are arbitrary python expressions that are associated with various part of functions.\n",
    "    These expressions are evaluated at compile time and have no life in python’s runtime environment. \n",
    "    Python does not attach any meaning to these annotations. They take life when interpreted by third party libraries,\n",
    "    for example, mypy.\n",
    "    "
   ]
  },
  {
   "cell_type": "code",
   "execution_count": null,
   "id": "d54de568",
   "metadata": {},
   "outputs": [],
   "source": [
    "5. What are recursive functions, and how are they used?\n",
    "Ans:\n",
    "    Python also accepts function recursion, \n",
    "    which means a defined function can call itself.\n",
    "    Recursion is a common mathematical and programming concept.\n",
    "    It means that a function calls itself.\n",
    "    This has the benefit of meaning that you can loop through data to reach a result."
   ]
  },
  {
   "cell_type": "code",
   "execution_count": null,
   "id": "5c7a4f96",
   "metadata": {},
   "outputs": [],
   "source": [
    "6. What are some general design guidelines for coding functions?\n",
    "Ans:\n",
    "    Safe:         It can be used without causing harm.\n",
    "    Secure:       It can't be hacked.\n",
    "    Reliable:     It functions as it should, every time.\n",
    "    Testable:     It can be tested at the code level.\n",
    "    Maintainable: It can be maintained, even as your codebase grows.\n",
    "    Portable:     It works the same in every environment."
   ]
  },
  {
   "cell_type": "code",
   "execution_count": null,
   "id": "bd4b85fd",
   "metadata": {},
   "outputs": [],
   "source": [
    "7. Name three or more ways that functions can communicate results to a caller.\n",
    "Ans:\n",
    "    Function can return single value\n",
    "    Can return multiple values, tuple\n",
    "    can return list,dictionary\n",
    "    can return function object\n",
    "    Functions can update global variable\n"
   ]
  }
 ],
 "metadata": {
  "kernelspec": {
   "display_name": "Python 3 (ipykernel)",
   "language": "python",
   "name": "python3"
  },
  "language_info": {
   "codemirror_mode": {
    "name": "ipython",
    "version": 3
   },
   "file_extension": ".py",
   "mimetype": "text/x-python",
   "name": "python",
   "nbconvert_exporter": "python",
   "pygments_lexer": "ipython3",
   "version": "3.9.12"
  }
 },
 "nbformat": 4,
 "nbformat_minor": 5
}
