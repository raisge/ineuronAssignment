{
 "cells": [
  {
   "cell_type": "code",
   "execution_count": null,
   "id": "9b294f52",
   "metadata": {},
   "outputs": [],
   "source": [
    "\"\"\"\n",
    "1. Set the variable test1 to the string \"This is a test of the emergency text system\" and save test1 to a\n",
    "file named test.txt.\n",
    "Ans:\n",
    "\"\"\"\n",
    "test1=\"This is a test of the emergency text system\"\n",
    "file=open(\"test.txt\",\"w\")\n",
    "file.write(test1)"
   ]
  },
  {
   "cell_type": "code",
   "execution_count": null,
   "id": "c9f61b16",
   "metadata": {},
   "outputs": [],
   "source": [
    "\"\"\"\n",
    "2. Read the contents of the file test.txt into the variable test2. Is there a difference between test 1\n",
    "and test 2?\n",
    "Ans:\n",
    "\"\"\"\n",
    "file1=open(\"test.txt\",\"r\")\n",
    "test2=file1.readline()\n",
    "test2"
   ]
  },
  {
   "cell_type": "code",
   "execution_count": null,
   "id": "a85e1867",
   "metadata": {},
   "outputs": [],
   "source": [
    "\"\"\"\n",
    "3. Create a CSV file called books.csv by using these lines:\n",
    "title,author,year\n",
    "The Weirdstone of Brisingamen,Alan Garner,1960\n",
    "Perdido Street Station,China Miéville,2000\n",
    "Thud!,Terry Pratchett,2005\n",
    "The Spellman Files,Lisa Lutz,2007\n",
    "Small Gods,Terry Pratchett,1992\n",
    "Ans:\n",
    "\"\"\"\n",
    "text = '''title,author,year\n",
    "The Weirdstone of Brisingamen,Alan Garner,1960\n",
    "Perdido Street Station,China Miéville,2000\n",
    "Thud!,Terry Pratchett,2005\n",
    "The Spellman Files,Lisa Lutz,2007\n",
    "Small Gods,Terry Pratchett,1992\n",
    "'''\n",
    "with open('books.csv', 'wt') as outfile:\n",
    "    outfile.write(text)"
   ]
  },
  {
   "cell_type": "code",
   "execution_count": null,
   "id": "dcb2058a",
   "metadata": {},
   "outputs": [],
   "source": [
    "\"\"\"\n",
    "4. Use the sqlite3 module to create a SQLite database called books.db, and a table called books with\n",
    "these fields: title (text), author (text), and year (integer).\n",
    "Ans:\n",
    "\"\"\"\n",
    "\n",
    "import sqlite3\n",
    "conn = sqlite3.connect('books.db')\n",
    "c = conn.cursor()\n",
    "\n",
    "c.execute('create table books(title varchar(20),author varchar(20), year int)')\n",
    "conn.commit()"
   ]
  },
  {
   "cell_type": "code",
   "execution_count": null,
   "id": "602bd448",
   "metadata": {},
   "outputs": [],
   "source": [
    "\"\"\"\n",
    "5. Read books.csv and insert its data into the book table.\n",
    "Ans:\n",
    "\"\"\"\n",
    "import pandas as pd\n",
    "data = pd.read_csv(\"books.csv\")"
   ]
  },
  {
   "cell_type": "code",
   "execution_count": null,
   "id": "f47a6df6",
   "metadata": {},
   "outputs": [],
   "source": [
    "\"\"\"\n",
    "6. Select and print the title column from the book table in alphabetical order.\n",
    "Ans:\n",
    "\"\"\"\n",
    "sql = 'select title from book order by title asc'\n",
    "for row in db.execute(sql):\n",
    "    print(row)"
   ]
  },
  {
   "cell_type": "code",
   "execution_count": null,
   "id": "e7289633",
   "metadata": {},
   "outputs": [],
   "source": [
    "\"\"\"\n",
    "7. From the book table, select and print all columns in the order of publication.\n",
    "Ans:\n",
    "\"\"\"\n",
    "\n",
    "c.execute('select title, author,year from books order by year')\n",
    "\n",
    "\n",
    "df = pd.DataFrame(c.fetchall(), columns=['title','author','year'])\n",
    "df"
   ]
  },
  {
   "cell_type": "code",
   "execution_count": null,
   "id": "a77b46a8",
   "metadata": {},
   "outputs": [],
   "source": [
    "\"\"\"\n",
    "8. Use the sqlalchemy module to connect to the sqlite3 database books.db that you just made in\n",
    "exercise 6.\n",
    "Ans:\n",
    "\"\"\"\n",
    "\n",
    "import sqlalchemy\n",
    "engine = sqlalchemy.create_engine(\"sqlite:///books.db\")\n",
    "rows = engine.execute('select * from books')\n",
    "for i in rows:\n",
    "    print(i)"
   ]
  },
  {
   "cell_type": "code",
   "execution_count": null,
   "id": "f3f463ea",
   "metadata": {},
   "outputs": [],
   "source": [
    "\"\"\"\n",
    "9. Install the Redis server and the Python redis library (pip install redis) on your computer. Create a\n",
    "Redis hash called test with the fields count (1) and name (&#39;Fester Bestertester&#39;). Print all the fields for\n",
    "test.\n",
    "Ans:\n",
    "\"\"\"\n",
    "                                                           \n",
    "\n",
    "import redis\n",
    "conn = redis.Redis()\n",
    "conn.delete('test')\n",
    "conn.hmset('test', {'count': 1, 'name': 'Fester Bestertester'})\n",
    "conn.hgetall('test')      "
   ]
  },
  {
   "cell_type": "code",
   "execution_count": null,
   "id": "2c9781e3",
   "metadata": {},
   "outputs": [],
   "source": [
    "\"\"\"\n",
    "10. Increment the count field of test and print it.\n",
    "Ans:\n",
    "\"\"\"\n",
    "\n",
    "\n",
    "conn.hincrby('test','count', 3)"
   ]
  }
 ],
 "metadata": {
  "kernelspec": {
   "display_name": "Python 3 (ipykernel)",
   "language": "python",
   "name": "python3"
  },
  "language_info": {
   "codemirror_mode": {
    "name": "ipython",
    "version": 3
   },
   "file_extension": ".py",
   "mimetype": "text/x-python",
   "name": "python",
   "nbconvert_exporter": "python",
   "pygments_lexer": "ipython3",
   "version": "3.9.12"
  }
 },
 "nbformat": 4,
 "nbformat_minor": 5
}
