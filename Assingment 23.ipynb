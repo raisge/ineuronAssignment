{
 "cells": [
  {
   "cell_type": "markdown",
   "id": "ace0e9fb",
   "metadata": {},
   "source": [
    "\n",
    "1. What is the result of the code, and why?\n",
    "def func(a, b=6, c=8):\n",
    "print(a, b, c)\n",
    "func(1, 2)"
   ]
  },
  {
   "cell_type": "code",
   "execution_count": 4,
   "id": "cd2a4505",
   "metadata": {},
   "outputs": [
    {
     "name": "stdout",
     "output_type": "stream",
     "text": [
      "1 2 8\n"
     ]
    }
   ],
   "source": [
    "def func(a,b=6,c=8):\n",
    "    print(a,b,c)\n",
    "func(1,2)\n",
    "\"\"\"\n",
    "Ans: output = 1,2,8 \n",
    "     because in func(1,2) given so a=1,b=2 & c=8 as per logic\n",
    "\"\"\""
   ]
  },
  {
   "cell_type": "markdown",
   "id": "15c43756",
   "metadata": {},
   "source": [
    "What is the result of this code, and why?\n",
    "def func(a, b, c=5):\n",
    "print(a, b, c)\n",
    "func(1, c=3, b=2)"
   ]
  },
  {
   "cell_type": "code",
   "execution_count": 5,
   "id": "8bf9f634",
   "metadata": {},
   "outputs": [
    {
     "name": "stdout",
     "output_type": "stream",
     "text": [
      "1 2 3\n"
     ]
    }
   ],
   "source": [
    "def func(a, b, c=5):\n",
    "    print(a, b, c)\n",
    "func(1, c=3, b=2)\n",
    "# output = 1,2,3 = As seen in func(1,c=3,b=2) all abc has define there modifiy value"
   ]
  },
  {
   "cell_type": "markdown",
   "id": "88f1b280",
   "metadata": {},
   "source": [
    "3. How about this code: what is its result, and why?\n",
    "def func(a, *pargs):\n",
    "print(a, pargs)\n",
    "func(1, 2, 3)"
   ]
  },
  {
   "cell_type": "code",
   "execution_count": 6,
   "id": "95df99b8",
   "metadata": {},
   "outputs": [
    {
     "name": "stdout",
     "output_type": "stream",
     "text": [
      "1 (2, 3)\n"
     ]
    }
   ],
   "source": [
    "def func(a, *pargs):\n",
    "    print(a, pargs)\n",
    "func(1, 2, 3)\n",
    "# first it will print value of \"a\" then it print *args value "
   ]
  },
  {
   "cell_type": "markdown",
   "id": "535ec6ba",
   "metadata": {},
   "source": [
    "4. What does this code print, and why?\n",
    "def func(a, **kargs):\n",
    "     print(a, kargs)\n",
    "func(a=1, c=3, b=2)"
   ]
  },
  {
   "cell_type": "code",
   "execution_count": 9,
   "id": "7345686e",
   "metadata": {},
   "outputs": [
    {
     "name": "stdout",
     "output_type": "stream",
     "text": [
      "1 {'c': 3, 'b': 2}\n"
     ]
    }
   ],
   "source": [
    "def func(a, **kargs):\n",
    "     print(a, kargs)\n",
    "func(a=1, c=3, b=2)\n",
    "# first it print the value of \"a\"\n",
    "# (**kargs) it give a key value pair for \"c\" and \"b\""
   ]
  },
  {
   "cell_type": "markdown",
   "id": "5959a55a",
   "metadata": {},
   "source": [
    "5. What gets printed by this, and explain?\n",
    "def func(a, b, c=8, d=5): print(a, b, c, d)\n",
    "func(1, *(5, 6))"
   ]
  },
  {
   "cell_type": "code",
   "execution_count": 10,
   "id": "e9f1583a",
   "metadata": {},
   "outputs": [
    {
     "name": "stdout",
     "output_type": "stream",
     "text": [
      "1 5 6 5\n"
     ]
    }
   ],
   "source": [
    "def func(a, b, c=8, d=5): print(a, b, c, d)\n",
    "func(1, *(5, 6))\n",
    "# \"a=1\" = 1 given by func\n",
    "# \"b=5\" = as *(5,6) assin ass args func\n",
    "# \"c=6\" = as *(5,6) assin ass args func and modify value of c\n",
    "# \"d=5\" = value given to d  "
   ]
  },
  {
   "cell_type": "markdown",
   "id": "8b06fe9c",
   "metadata": {},
   "source": [
    "6. what is the result of this, and explain?\n",
    "def func(a,b,c):a=2;b[0]=\"x\";c[\"a\"]=\"Y\"\n",
    "l=1;m=[1];n={\"a\":0}\n",
    "func(1,m,n)\n",
    "l,m,n\n"
   ]
  },
  {
   "cell_type": "code",
   "execution_count": 11,
   "id": "edd869c8",
   "metadata": {},
   "outputs": [
    {
     "data": {
      "text/plain": [
       "(1, ['x'], {'a': 'Y'})"
      ]
     },
     "execution_count": 11,
     "metadata": {},
     "output_type": "execute_result"
    }
   ],
   "source": [
    "def func(a,b,c):a=2;b[0]=\"x\";c[\"a\"]=\"Y\"\n",
    "l=1;m=[1];n={\"a\":0}\n",
    "func(1,m,n)\n",
    "l,m,n"
   ]
  },
  {
   "cell_type": "code",
   "execution_count": 42,
   "id": "ad732730",
   "metadata": {},
   "outputs": [
    {
     "name": "stdout",
     "output_type": "stream",
     "text": [
      "1 ['x'] {'a': 'y'}\n"
     ]
    }
   ],
   "source": [
    "def func(a, b, c): \n",
    "    a = 2\n",
    "    b[0] = 'x' \n",
    "    c['a'] = 'y'\n",
    "    \n",
    "l=1 \n",
    "m=[1]\n",
    "n={'a':0}\n",
    "\n",
    "func(l, m, n)\n",
    "print(l, m, n)\n",
    "# in console value of l not change but value of \"m\" & \"n\" get change"
   ]
  },
  {
   "cell_type": "code",
   "execution_count": null,
   "id": "8f1aa088",
   "metadata": {},
   "outputs": [],
   "source": []
  },
  {
   "cell_type": "code",
   "execution_count": null,
   "id": "8de45881",
   "metadata": {},
   "outputs": [],
   "source": []
  }
 ],
 "metadata": {
  "kernelspec": {
   "display_name": "Python 3 (ipykernel)",
   "language": "python",
   "name": "python3"
  },
  "language_info": {
   "codemirror_mode": {
    "name": "ipython",
    "version": 3
   },
   "file_extension": ".py",
   "mimetype": "text/x-python",
   "name": "python",
   "nbconvert_exporter": "python",
   "pygments_lexer": "ipython3",
   "version": "3.9.12"
  }
 },
 "nbformat": 4,
 "nbformat_minor": 5
}
