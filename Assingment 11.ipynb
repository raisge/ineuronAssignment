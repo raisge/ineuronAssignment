{
 "cells": [
  {
   "cell_type": "code",
   "execution_count": 8,
   "id": "4b39f33f",
   "metadata": {},
   "outputs": [
    {
     "name": "stdout",
     "output_type": "stream",
     "text": [
      "enter a number : -5\n",
      "please enter a positive number\n"
     ]
    }
   ],
   "source": [
    "# 1. Create an assert statement that throws an AssertionError if the variable spam is a negative integer.\n",
    "Ans:\n",
    "try:\n",
    "    spam=int(input(\"enter a number : \"))\n",
    "    assert spam>0 ,\"please enter a positive number\"\n",
    "except AssertionError as ae:\n",
    "    print(ae)"
   ]
  },
  {
   "cell_type": "code",
   "execution_count": 11,
   "id": "e02e4048",
   "metadata": {},
   "outputs": [
    {
     "name": "stdout",
     "output_type": "stream",
     "text": [
      "Please enter the 1st word: a\n",
      "Please enter the 2nd word: b\n",
      "Both words can't be the same\n"
     ]
    }
   ],
   "source": [
    "Write an assert statement that triggers an AssertionError if the variables eggs and bacon contain strings that are the same as each other,\n",
    "even if their cases are different (that is, 'hello' and 'hello' are considered the same, and 'goodbye' and 'GOODbye' are also considered the same).\n",
    "Ans:\n",
    "eggs=input('Please enter the 1st word: ')\n",
    "bacon=input('Please enter the 2nd word: ')\n",
    "try:\n",
    "    assert (eggs.lower()==bacon.lower()), \"Both words can't be the same\"\n",
    "except AssertionError as ae:\n",
    "    print(ae)"
   ]
  },
  {
   "cell_type": "code",
   "execution_count": 15,
   "id": "c3abff13",
   "metadata": {},
   "outputs": [
    {
     "name": "stdout",
     "output_type": "stream",
     "text": [
      "Invalid Operation\n"
     ]
    }
   ],
   "source": [
    "#3. Create an assert statement that throws an AssertionError every time.\n",
    "Ans:\n",
    "    \n",
    "try:\n",
    "    x = 1\n",
    "    y = 0\n",
    "    assert y != 0, \"Invalid Operation\"\n",
    "    print(x / y)\n",
    "except AssertionError as msg:\n",
    "    print(msg)"
   ]
  },
  {
   "cell_type": "code",
   "execution_count": null,
   "id": "989a9c9d",
   "metadata": {},
   "outputs": [],
   "source": [
    "4. What are the two lines that must be present in your software in order to call logging.debug()?\n",
    "Ans:\n",
    "    \n",
    "import logging\n",
    "logging.basicConfig(filename='logging.log', level=logging.DEBUG,filemode='w' )"
   ]
  },
  {
   "cell_type": "code",
   "execution_count": null,
   "id": "4068e883",
   "metadata": {},
   "outputs": [],
   "source": [
    "5. What are the two lines that your program must have in order to have logging.debug() send a\n",
    "logging message to a file named programLog.txt?\n",
    "Ans:\n",
    "    \n",
    "import logging\n",
    "logging.basicConfig(filename='programLog.txt', level=logging.DEBUG,filemode='w' )"
   ]
  },
  {
   "cell_type": "code",
   "execution_count": null,
   "id": "a8598201",
   "metadata": {},
   "outputs": [],
   "source": [
    "6. What are the five levels of logging?\n",
    "Ans:\n",
    "    1.DEBUG\n",
    "    2.INFO\n",
    "    3.WARNING\n",
    "    4.ERROR\n",
    "    5.CRITICAL"
   ]
  },
  {
   "cell_type": "code",
   "execution_count": null,
   "id": "8c5da8a8",
   "metadata": {},
   "outputs": [],
   "source": [
    "7. What line of code would you add to your software to disable all logging messages?\n",
    "Ans:\n",
    "    import logging\n",
    "    logging.disable(level='CRITICAL')"
   ]
  },
  {
   "cell_type": "code",
   "execution_count": null,
   "id": "d278e43b",
   "metadata": {},
   "outputs": [],
   "source": [
    "8.Why is using logging messages better than using print() to display the same message?\n",
    "Ans:\n",
    "    One of the advantages of using the logging module \n",
    "    to track our codes is the ability to format the messages based on our needs. "
   ]
  },
  {
   "cell_type": "code",
   "execution_count": null,
   "id": "24a0a71c",
   "metadata": {},
   "outputs": [],
   "source": [
    "9. What are the differences between the Step Over, Step In, and Step Out buttons in the debugger?\n",
    "Ans: \n",
    "    step over: it doesn't get inside a class or functions and run them as a single process\n",
    "    Step in: it gets inside a function/class and debug it\n",
    "    Step out: it gets out of the function/class after debugging it."
   ]
  },
  {
   "cell_type": "code",
   "execution_count": null,
   "id": "f35ba5b3",
   "metadata": {},
   "outputs": [],
   "source": [
    "10.After you click Continue, when will the debugger stop ?\n",
    "Ans:\n",
    "    when a breakpoint is encountered. "
   ]
  },
  {
   "cell_type": "code",
   "execution_count": null,
   "id": "10de57ef",
   "metadata": {},
   "outputs": [],
   "source": [
    "11. What is the concept of a breakpoint?\n",
    "Ans:\n",
    "    breakpoint is an intentional stopping or pausing place in a program, \n",
    "    put in place for debugging purposes."
   ]
  },
  {
   "cell_type": "code",
   "execution_count": null,
   "id": "b131e2d6",
   "metadata": {},
   "outputs": [],
   "source": []
  },
  {
   "cell_type": "code",
   "execution_count": null,
   "id": "e36909ba",
   "metadata": {},
   "outputs": [],
   "source": []
  }
 ],
 "metadata": {
  "kernelspec": {
   "display_name": "Python 3 (ipykernel)",
   "language": "python",
   "name": "python3"
  },
  "language_info": {
   "codemirror_mode": {
    "name": "ipython",
    "version": 3
   },
   "file_extension": ".py",
   "mimetype": "text/x-python",
   "name": "python",
   "nbconvert_exporter": "python",
   "pygments_lexer": "ipython3",
   "version": "3.9.12"
  }
 },
 "nbformat": 4,
 "nbformat_minor": 5
}
