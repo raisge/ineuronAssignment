{
 "cells": [
  {
   "cell_type": "code",
   "execution_count": null,
   "id": "00b2a068",
   "metadata": {},
   "outputs": [],
   "source": [
    "1.What are escape characters, and how do you use them?\n",
    "Ans:\n",
    "    To insert characters that are illegal in a string are escape character\n",
    "     An escape character is a backslash \\ followed by the character you want to insert.\n",
    "    An example of an illegal character is a double quote inside a string that is surrounded by double quotes."
   ]
  },
  {
   "cell_type": "code",
   "execution_count": null,
   "id": "9af7fb45",
   "metadata": {},
   "outputs": [],
   "source": [
    "2.What do the escape characters n and t stand for?\n",
    "Ans:\n",
    "    \\n stand for New line\n",
    "    \\t stand for tab space(white space)"
   ]
  },
  {
   "cell_type": "code",
   "execution_count": null,
   "id": "56bdd99b",
   "metadata": {},
   "outputs": [],
   "source": [
    "3. What is the way to include backslash characters in a string?\n",
    "Ans:\n",
    "    \\\\\n",
    "    "
   ]
  },
  {
   "cell_type": "code",
   "execution_count": null,
   "id": "fa89155e",
   "metadata": {},
   "outputs": [],
   "source": [
    "4. The string \"Howl's Moving Castle\" is a correct value. \n",
    "   Why isnt the single quote character in the word Howl's not escaped a problem?\n",
    "Ans:\n",
    "     the string is surrounded by double quotes, hence, single quote allowed in the string"
   ]
  },
  {
   "cell_type": "code",
   "execution_count": null,
   "id": "6a9a5c76",
   "metadata": {},
   "outputs": [],
   "source": [
    "5. How do you write a string of newlines if you dont want to use the n character?\n",
    "Ans:\n",
    "     With the help of Three single or double quotes surrounding the multiline string will help to write string in newline."
   ]
  },
  {
   "cell_type": "code",
   "execution_count": null,
   "id": "dee55375",
   "metadata": {},
   "outputs": [],
   "source": [
    "6. What are the values of the given expressions?\n",
    "    'Hello, world!'[1]\n",
    "    'Hello, world!'[0:5]\n",
    "    'Hello, world!'[:5]\n",
    "    'Hello, world!'[3:]\n",
    "Ans:\n",
    "    'Hello, world!'[1]           \"e\"   \n",
    "    'Hello, world!'[0:5]         \"Hello\"\n",
    "    'Hello, world!'[:5]          \"Hello\"\n",
    "    'Hello, world!'[3:]          \"lo,world\""
   ]
  },
  {
   "cell_type": "code",
   "execution_count": null,
   "id": "c7a5e976",
   "metadata": {},
   "outputs": [],
   "source": [
    "7. What are the values of the following expressions?\n",
    "    'Hello'.upper()\n",
    "    'Hello'.upper().isupper()\n",
    "    'Hello'.upper().lower()\n",
    "Ans: \n",
    "    'Hello'.upper()                  \"HELLO\"\n",
    "    'Hello'.upper().isupper()         True\n",
    "    'Hello'.upper().lower()          'hello'"
   ]
  },
  {
   "cell_type": "code",
   "execution_count": null,
   "id": "e82b3c47",
   "metadata": {},
   "outputs": [],
   "source": [
    "8. What are the values of the following expressions?\n",
    "    'Remember, remember, the fifth of July.'.split()\n",
    "    '-'.join('There can only one.'.split())\n",
    "Ans:\n",
    "    (1)'Remember, remember, the fifth of July.'.split()\n",
    "    output is:\n",
    "        ['Remember,', 'remember,', 'the', 'fifth', 'of', 'July.']\n",
    "    (2)'-'.join('There can only one.'.split())   \n",
    "    Output is:\n",
    "        'There-can-only-one.'\n",
    "    "
   ]
  },
  {
   "cell_type": "code",
   "execution_count": null,
   "id": "692e50b5",
   "metadata": {},
   "outputs": [],
   "source": [
    "9. What are the methods for right-justifying, left-justifying, and centering a string?\n",
    "Ans:\n",
    "    right justifying function is   :  rjust()\n",
    "    left justifying function is    :  ljust()\n",
    "    center justifying function is  :  center()"
   ]
  },
  {
   "cell_type": "code",
   "execution_count": null,
   "id": "a402aa6e",
   "metadata": {},
   "outputs": [],
   "source": [
    "10. What is the best way to remove whitespace characters from the start or end?\n",
    "Ans:\n",
    "     lstrip() and rstrip() methods remove whitespace from the left and right ends of a string."
   ]
  },
  {
   "cell_type": "code",
   "execution_count": null,
   "id": "c2f48d88",
   "metadata": {},
   "outputs": [],
   "source": []
  },
  {
   "cell_type": "code",
   "execution_count": null,
   "id": "2fb75af1",
   "metadata": {},
   "outputs": [],
   "source": []
  }
 ],
 "metadata": {
  "kernelspec": {
   "display_name": "Python 3 (ipykernel)",
   "language": "python",
   "name": "python3"
  },
  "language_info": {
   "codemirror_mode": {
    "name": "ipython",
    "version": 3
   },
   "file_extension": ".py",
   "mimetype": "text/x-python",
   "name": "python",
   "nbconvert_exporter": "python",
   "pygments_lexer": "ipython3",
   "version": "3.9.12"
  }
 },
 "nbformat": 4,
 "nbformat_minor": 5
}
