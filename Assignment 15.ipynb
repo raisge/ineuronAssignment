{
 "cells": [
  {
   "cell_type": "code",
   "execution_count": null,
   "id": "90a79d4f",
   "metadata": {},
   "outputs": [],
   "source": [
    "1.How many seconds are in an hour? Use the interactive interpreter as a calculator and multiply the\n",
    "number of seconds in a minute (60) by the number of minutes in an hour (also 60).\n",
    "sol. 60\n",
    "Ans:\n",
    "    60*60\n",
    "    3600"
   ]
  },
  {
   "cell_type": "code",
   "execution_count": null,
   "id": "711bca3c",
   "metadata": {},
   "outputs": [],
   "source": [
    "2. Assign the result from the previous task (seconds in an hour) to a variable called\n",
    "seconds_per_hour.\n",
    "Ans:\n",
    "    seconds_per_hour=3600"
   ]
  },
  {
   "cell_type": "code",
   "execution_count": null,
   "id": "effa9f68",
   "metadata": {},
   "outputs": [],
   "source": [
    "3. How many seconds do you think there are in a day? Make use of the variables seconds per hour\n",
    "and minutes per hour.\n",
    "Ans:\n",
    "    seconds in a day = 24*seconds_per_hour\n",
    "                     =24*3600\n",
    "                     =86400"
   ]
  },
  {
   "cell_type": "code",
   "execution_count": null,
   "id": "42bcf942",
   "metadata": {},
   "outputs": [],
   "source": [
    "4. Calculate seconds per day again, but this time save the result in a variable called seconds_per_day\n",
    "Ans:\n",
    "    seconds per day =  24*seconds_per_hour\n",
    "                     =24*3600\n",
    "                     =86400"
   ]
  },
  {
   "cell_type": "code",
   "execution_count": null,
   "id": "9f647af3",
   "metadata": {},
   "outputs": [],
   "source": [
    "5. Divide seconds_per_day by seconds_per_hour. Use floating-point (/) division.\n",
    "Ans:\n",
    "    seconds_per_day / seconds_per_hour\n",
    "    86400/3600\n",
    "    24.0"
   ]
  },
  {
   "cell_type": "code",
   "execution_count": null,
   "id": "e861ea44",
   "metadata": {},
   "outputs": [],
   "source": [
    "6. Divide seconds_per_day by seconds_per_hour, using integer (//) division. Did this number agree\n",
    "with the floating-point value from the previous question, aside from the final .0?\n",
    "Ans:\n",
    "     seconds_per_day // seconds_per_hour\n",
    "    86400//3600\n",
    "    24"
   ]
  },
  {
   "cell_type": "code",
   "execution_count": 6,
   "id": "39e5c7d9",
   "metadata": {},
   "outputs": [
    {
     "name": "stdout",
     "output_type": "stream",
     "text": [
      "2\n",
      "3\n",
      "5\n",
      "7\n",
      "11\n",
      "13\n",
      "17\n"
     ]
    }
   ],
   "source": [
    "7. Write a generator, genPrimes, that returns the sequence of prime numbers on successive calls to\n",
    "its next() method: 2, 3, 5, 7, 11, ...\n",
    "Ans:\n",
    "def genPrimes():\n",
    "    n = 0\n",
    "    while True:\n",
    "        if n == 2 or n == 3 :\n",
    "            yield n\n",
    "        elif ((n-1)%6 == 0 or (n+1)%6 == 0) and n !=1:\n",
    "            yield n\n",
    "        n = n+1\n",
    "        \n",
    "output = genPrimes()\n",
    "for ele in range(7):\n",
    "    print(next(output))"
   ]
  },
  {
   "cell_type": "code",
   "execution_count": null,
   "id": "b7358b62",
   "metadata": {},
   "outputs": [],
   "source": []
  }
 ],
 "metadata": {
  "kernelspec": {
   "display_name": "Python 3 (ipykernel)",
   "language": "python",
   "name": "python3"
  },
  "language_info": {
   "codemirror_mode": {
    "name": "ipython",
    "version": 3
   },
   "file_extension": ".py",
   "mimetype": "text/x-python",
   "name": "python",
   "nbconvert_exporter": "python",
   "pygments_lexer": "ipython3",
   "version": "3.9.12"
  }
 },
 "nbformat": 4,
 "nbformat_minor": 5
}
