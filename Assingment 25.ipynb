{
 "cells": [
  {
   "cell_type": "markdown",
   "id": "c4a2121c",
   "metadata": {},
   "source": [
    "1)What is the difference between enclosing a list comprehension in square brackets and parentheses?\n",
    "\n",
    "Ans:brackets and parentheses differ is that\n",
    "    square brackets can describe a list comprehension, e.g. [x for x in y] \n",
    "    Whereas the corresponding parenthetic syntax specifies a tuple generator: (x for x in y) \n",
    "    You can get a tuple comprehension using: tuple (x for x in y)\n",
    "\n"
   ]
  },
  {
   "cell_type": "code",
   "execution_count": null,
   "id": "4d5f56e6",
   "metadata": {},
   "outputs": [],
   "source": [
    "2) What is the relationship between generators and iterators?\n",
    "\n",
    "Ans:\n",
    "    Implementing your own iterator means you must create an __iter__() and __next__() method,\n",
    "    whereas a generator can be implemented using the yield keyword in a Python function or comprehension."
   ]
  },
  {
   "cell_type": "code",
   "execution_count": null,
   "id": "6bc1f395",
   "metadata": {},
   "outputs": [],
   "source": [
    "3) What are the signs that a function is a generator function?\n",
    "Ans:\n",
    "    We can only tell it's a generator function by the presence of a yield statement"
   ]
  },
  {
   "cell_type": "code",
   "execution_count": null,
   "id": "1d426d12",
   "metadata": {},
   "outputs": [],
   "source": [
    "4) What is the purpose of a yield statement?\n",
    "Ans:\n",
    "    The yield statement returns a generator object to the one who calls the function\n",
    "    which contains yield, instead of simply returning a value."
   ]
  },
  {
   "cell_type": "code",
   "execution_count": null,
   "id": "1b4c9d8a",
   "metadata": {},
   "outputs": [],
   "source": [
    "5) What is the relationship between map calls and list comprehensions? Make a comparison and\n",
    "contrast between the two.\n",
    "Ans:\n",
    "    List comprehension returns a list,\n",
    "    whereas the map function returns an object of Iterable.\n",
    "    List comprehension execution is faster than that of map function \n",
    "    when the formula expression is huge and complex.\n",
    "    Map function is faster than list comprehension when the formula is already defined as a function earlier."
   ]
  }
 ],
 "metadata": {
  "kernelspec": {
   "display_name": "Python 3 (ipykernel)",
   "language": "python",
   "name": "python3"
  },
  "language_info": {
   "codemirror_mode": {
    "name": "ipython",
    "version": 3
   },
   "file_extension": ".py",
   "mimetype": "text/x-python",
   "name": "python",
   "nbconvert_exporter": "python",
   "pygments_lexer": "ipython3",
   "version": "3.9.12"
  }
 },
 "nbformat": 4,
 "nbformat_minor": 5
}
