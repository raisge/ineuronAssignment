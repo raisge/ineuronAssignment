{
 "cells": [
  {
   "cell_type": "code",
   "execution_count": null,
   "id": "42baab2d",
   "metadata": {},
   "outputs": [],
   "source": [
    "1. What exactly is []?\n",
    "Ans:\n",
    "    [] is a empty list\n",
    "    a list value that contains no items"
   ]
  },
  {
   "cell_type": "code",
   "execution_count": null,
   "id": "383a0b0c",
   "metadata": {},
   "outputs": [],
   "source": [
    "2. In a list of values stored in a variable called spam, \n",
    "   how would you assign the value hello' as the third value? (Assume [2, 4, 6, 8, 10] are in spam.)\n",
    "#Ans:\n",
    "    spam =[2,4,6,8,10]\n",
    "    spam[2]= \"hello\"\n",
    "    print(spam)\n",
    "    "
   ]
  },
  {
   "cell_type": "markdown",
   "id": "c66709b9",
   "metadata": {},
   "source": [
    "# Lets pretend the spam includes the list ['a', 'b','c','d'] for the next three queries."
   ]
  },
  {
   "cell_type": "code",
   "execution_count": null,
   "id": "36df4b3c",
   "metadata": {},
   "outputs": [],
   "source": [
    "3.What is the value of spam[int(int(3 * 2) / 11)]?\n",
    "  spam = [\"a\",\"b\",\"c\",\"d\"]\n",
    "Ans:\n",
    "    \"d\"\n"
   ]
  },
  {
   "cell_type": "code",
   "execution_count": null,
   "id": "ed8d08f5",
   "metadata": {},
   "outputs": [],
   "source": [
    "4. What is the value of spam[-1]?\n",
    "Ans:\n",
    "     spam = [\"a\",\"b\",\"c\",\"d\"]\n",
    "     spam[-1] is a negative values start from end so ans is\n",
    "     \"d\"\n",
    "    \n",
    "    "
   ]
  },
  {
   "cell_type": "code",
   "execution_count": null,
   "id": "afd2a560",
   "metadata": {},
   "outputs": [],
   "source": [
    "5. What is the value of spam[:2]?\n",
    "Ans:\n",
    "    [\"a\",\"b\"]"
   ]
  },
  {
   "cell_type": "markdown",
   "id": "79d6b51e",
   "metadata": {},
   "source": [
    "# Let's pretend bacon has the list [3.14, 'cat' 11, 'cat' True] for the next three questions.*"
   ]
  },
  {
   "cell_type": "code",
   "execution_count": null,
   "id": "90b2ade0",
   "metadata": {},
   "outputs": [],
   "source": [
    "# bacon = [3.14,\"cat\",11,\"cat\",True]\n",
    "6. What is the value of bacon.index('cat')?\n",
    "Ans:\n",
    "    It return first acurre of \"cat\"\n",
    "    1\n",
    "   \n",
    "    eg :  bacon = [3.14,\"cat\",11,\"cat\",True]\n",
    "          bacon.index(\"cat\")"
   ]
  },
  {
   "cell_type": "code",
   "execution_count": null,
   "id": "72d5639b",
   "metadata": {},
   "outputs": [],
   "source": [
    "7.How does bacon.append(99) change the look of the list value in bacon?\n",
    "Ans:\n",
    "    append add at items at end of list\n",
    "    [3.14, 'cat', 11, 'cat', True, 99]\n",
    "      \n",
    "        eg:  bacon = [3.14,\"cat\",11,\"cat\",True]\n",
    "            bacon.append(99)\n",
    "            print(bacon)"
   ]
  },
  {
   "cell_type": "code",
   "execution_count": null,
   "id": "e122bcf6",
   "metadata": {},
   "outputs": [],
   "source": [
    "8.How does bacon.remove(\"cat\") change the look of the list in bacon?\n",
    "Ans:  \n",
    "    remove first accure of \"cat\" \n",
    "    [3.14, 11, 'cat', True]\n",
    "      \n",
    "        eg:  bacon = [3.14,\"cat\",11,\"cat\",True]\n",
    "             bacon.remove(\"cat\")\n",
    "             print(bacon)"
   ]
  },
  {
   "cell_type": "code",
   "execution_count": null,
   "id": "29148a03",
   "metadata": {},
   "outputs": [],
   "source": [
    "9.What are the list concatenation and list replication operators?\n",
    "Ans:\n",
    "    The operator for list concatenation is +,\n",
    "    while the operator for replication is *."
   ]
  },
  {
   "cell_type": "code",
   "execution_count": null,
   "id": "a2aaf1ec",
   "metadata": {},
   "outputs": [],
   "source": [
    "10. What is difference between the list methods append() and insert()?\n",
    "Ans:\n",
    "    insert() allow to add a specific element at a specified index\n",
    "    append() where we can add any element at the end of the list"
   ]
  },
  {
   "cell_type": "code",
   "execution_count": null,
   "id": "ce7d0162",
   "metadata": {},
   "outputs": [],
   "source": [
    "11. What are the two methods for removing items from a list?\n",
    "Ans:\n",
    "    remove() it remove a given element from a list\n",
    "    pop() ir remove last element from list"
   ]
  },
  {
   "cell_type": "code",
   "execution_count": null,
   "id": "7f361081",
   "metadata": {},
   "outputs": [],
   "source": [
    "12.Describe how list values and string values are identical.\n",
    "Ans:\n",
    "    Both lists and strings can be passed to len(),\n",
    "    have indexes and slices,\n",
    "    be used in for loops, \n",
    "    be concatenated or replicated,\n",
    "    and be used with the in and not in operators."
   ]
  },
  {
   "cell_type": "code",
   "execution_count": null,
   "id": "8e7a8910",
   "metadata": {},
   "outputs": [],
   "source": [
    "13. What's the difference between tuples and lists?\n",
    "Ans:\n",
    "    The primary difference between tuples and lists \n",
    "    tuples are immutable, store in () ,need less memory\n",
    "    lists which are mutable , store in [], need more memory "
   ]
  },
  {
   "cell_type": "code",
   "execution_count": null,
   "id": "5544ad56",
   "metadata": {},
   "outputs": [],
   "source": [
    "14.How do you type a tuple value that only contains the integer 42?\n",
    "Ans:\n",
    "    (42,)"
   ]
  },
  {
   "cell_type": "code",
   "execution_count": null,
   "id": "0fd08681",
   "metadata": {},
   "outputs": [],
   "source": [
    "15.How do you get a list value tuple form? How do you get a tuple value list form?\n",
    "Ans :\n",
    "    # tuple in list\n",
    "    l=(1,2,3)\n",
    "    list(l)\n",
    "    # list in tuple\n",
    "    list=[1,2,3]\n",
    "    tuple(l)"
   ]
  },
  {
   "cell_type": "code",
   "execution_count": null,
   "id": "1af29378",
   "metadata": {},
   "outputs": [],
   "source": [
    "16.Variables that \"contain\" list values don't actually contain lists directly. What do they contain instead?\n",
    "Ans:\n",
    "    They contain references to list values."
   ]
  },
  {
   "cell_type": "code",
   "execution_count": null,
   "id": "b2b69797",
   "metadata": {},
   "outputs": [],
   "source": [
    "17. How do you distinguish between copy.copy() and copy.deepcopy()?\n",
    "Ans:\n",
    "    The copy.copy() function will do a shallow copy of a list,\n",
    "    while the copy.deepcopy() function will do a deep copy of a list.\n",
    "    That is, only copy.deepcopy() will duplicate any lists inside the list."
   ]
  },
  {
   "cell_type": "code",
   "execution_count": null,
   "id": "422a98c9",
   "metadata": {},
   "outputs": [],
   "source": []
  }
 ],
 "metadata": {
  "kernelspec": {
   "display_name": "Python 3 (ipykernel)",
   "language": "python",
   "name": "python3"
  },
  "language_info": {
   "codemirror_mode": {
    "name": "ipython",
    "version": 3
   },
   "file_extension": ".py",
   "mimetype": "text/x-python",
   "name": "python",
   "nbconvert_exporter": "python",
   "pygments_lexer": "ipython3",
   "version": "3.9.12"
  }
 },
 "nbformat": 4,
 "nbformat_minor": 5
}
