{
 "cells": [
  {
   "cell_type": "code",
   "execution_count": 5,
   "id": "0d5d3349",
   "metadata": {},
   "outputs": [],
   "source": [
    "'''\n",
    "1. Create a list called years_list, starting with the year of your birth, and each year thereafter until\n",
    "the year of your fifth birthday. For example, if you were born in 1980. the list would be years_list =\n",
    "[1980, 1981, 1982, 1983, 1984, 1985].\n",
    "Ans:\n",
    "'''\n",
    "year_list=[1984,1985,1986,1987,1988,1989]"
   ]
  },
  {
   "cell_type": "code",
   "execution_count": 6,
   "id": "c77741b6",
   "metadata": {},
   "outputs": [
    {
     "data": {
      "text/plain": [
       "1987"
      ]
     },
     "execution_count": 6,
     "metadata": {},
     "output_type": "execute_result"
    }
   ],
   "source": [
    "'''\n",
    "2. In which year in years_list was your third birthday? Remember, you were 0 years of age for your\n",
    "first year.\n",
    "Ans:\n",
    "'''\n",
    "year_list=[1984,1985,1986,1987,1988,1989]\n",
    "year_list[3]\n",
    "1987"
   ]
  },
  {
   "cell_type": "code",
   "execution_count": 7,
   "id": "04410c90",
   "metadata": {},
   "outputs": [
    {
     "data": {
      "text/plain": [
       "1989"
      ]
     },
     "execution_count": 7,
     "metadata": {},
     "output_type": "execute_result"
    }
   ],
   "source": [
    "'''\n",
    "3.In the years list, which year were you the oldest?\n",
    "Ans:\n",
    "'''\n",
    "max(year_list)\n",
    "1989"
   ]
  },
  {
   "cell_type": "code",
   "execution_count": 13,
   "id": "defb7734",
   "metadata": {},
   "outputs": [],
   "source": [
    "'''\n",
    "4. Make a list called things with these three strings as elements: \"mozzarella\", \"cinderella\", \"salmonella\".\n",
    "Ans:\n",
    "'''\n",
    "things=[\"mozzarella\", \"cinderella\", \"salmonella\"]"
   ]
  },
  {
   "cell_type": "code",
   "execution_count": 17,
   "id": "d0df1129",
   "metadata": {},
   "outputs": [
    {
     "name": "stdout",
     "output_type": "stream",
     "text": [
      "Cinderella\n",
      "['mozzarella', 'cinderella', 'salmonella']\n"
     ]
    }
   ],
   "source": [
    "'''\n",
    "5. Capitalize the element in things that refers to a person and then print the list. Did it change the element in the list?\n",
    "Ans:\n",
    "'''\n",
    "print(things[1].capitalize())\n",
    "print(things)\n",
    "# it not change the element in list"
   ]
  },
  {
   "cell_type": "code",
   "execution_count": 34,
   "id": "e97b2cf7",
   "metadata": {},
   "outputs": [],
   "source": [
    "\"\"\"\n",
    "6. Make a surprise list with the elements \"Groucho,\" \"Chico,\" and \"Harpo.\"\n",
    "Ans:\n",
    "\"\"\"\n",
    "surprise = [\"Groucho\",\"Chico\",\"Harpo\"]"
   ]
  },
  {
   "cell_type": "code",
   "execution_count": 39,
   "id": "33233ad3",
   "metadata": {},
   "outputs": [
    {
     "name": "stdout",
     "output_type": "stream",
     "text": [
      "harpo\n",
      "oprah\n",
      "Oprah\n"
     ]
    }
   ],
   "source": [
    "'''\n",
    "7. Lowercase the last element of the surprise list, reverse it, and then capitalize it.\n",
    "Ans:\n",
    "'''\n",
    "a=(surprise[2].lower())\n",
    "print(a)\n",
    "reverse_last=a[::-1]\n",
    "print(reverse_last)\n",
    "capital=reverse_last.capitalize()\n",
    "print(capital)\n",
    "\n"
   ]
  },
  {
   "cell_type": "code",
   "execution_count": 47,
   "id": "42e2c2ab",
   "metadata": {},
   "outputs": [
    {
     "name": "stdout",
     "output_type": "stream",
     "text": [
      "{'dog': 'chien', 'cat': 'chat', 'walrus': 'morse'}\n"
     ]
    }
   ],
   "source": [
    "'''\n",
    "8. Make an English-to-French dictionary called e2f and print it.\n",
    "Here are your starter words: dog is chien, cat is chat, and walrus is morse.\n",
    "Ans:\n",
    "'''\n",
    "e2f={\"dog\":\"chien\",\"cat\":\"chat\",\"walrus\":\"morse\"}\n",
    "print(e2f)"
   ]
  },
  {
   "cell_type": "code",
   "execution_count": 48,
   "id": "429591f1",
   "metadata": {},
   "outputs": [
    {
     "data": {
      "text/plain": [
       "'morse'"
      ]
     },
     "execution_count": 48,
     "metadata": {},
     "output_type": "execute_result"
    }
   ],
   "source": [
    "'''\n",
    "9. Write the French word for walrus in your three-word dictionary e2f.\n",
    "Ans:\n",
    "'''\n",
    "e2f[\"walrus\"]"
   ]
  },
  {
   "cell_type": "code",
   "execution_count": 49,
   "id": "3f349eab",
   "metadata": {},
   "outputs": [
    {
     "data": {
      "text/plain": [
       "{'chien': 'dog', 'chat': 'cat', 'morse': 'walrus'}"
      ]
     },
     "execution_count": 49,
     "metadata": {},
     "output_type": "execute_result"
    }
   ],
   "source": [
    "'''\n",
    "10. Make a French-to-English dictionary called f2e from e2f. Use the items method.\n",
    "Ans:\n",
    "'''\n",
    "f2e = dict((key,value) for value,key in e2f.items())\n",
    "f2e"
   ]
  },
  {
   "cell_type": "code",
   "execution_count": 50,
   "id": "d562e40d",
   "metadata": {},
   "outputs": [
    {
     "data": {
      "text/plain": [
       "'dog'"
      ]
     },
     "execution_count": 50,
     "metadata": {},
     "output_type": "execute_result"
    }
   ],
   "source": [
    "'''\n",
    "11. Print the English version of the French word chien using f2e.\n",
    "Ans:\n",
    "'''\n",
    "f2e[\"chien\"]"
   ]
  },
  {
   "cell_type": "code",
   "execution_count": 52,
   "id": "af6e1671",
   "metadata": {},
   "outputs": [
    {
     "data": {
      "text/plain": [
       "dict_keys(['dog', 'cat', 'walrus'])"
      ]
     },
     "execution_count": 52,
     "metadata": {},
     "output_type": "execute_result"
    }
   ],
   "source": [
    "'''\n",
    "12. Make and print a set of English words from the keys in e2f.\n",
    "Ans:\n",
    "'''\n",
    "e2f.keys()"
   ]
  },
  {
   "cell_type": "code",
   "execution_count": 55,
   "id": "4634e86a",
   "metadata": {},
   "outputs": [],
   "source": [
    "'''\n",
    "Q. Make a multilevel dictionary called life.\n",
    "Use these strings for the topmost keys: 'animals', 'plants', and 'other'. \n",
    "Make the 'animals' key refer to another dictionary with the keys 'cats', 'octopi', and 'emus'.\n",
    "Make the 'cats' key refer to a list of strings with the values 'Henri', 'Grumpy', and 'Lucy'.\n",
    "Make all the other keys refer to empty dictionaries.\n",
    "Ans:\n",
    "'''\n",
    "life={\"animal\":{\"cat\":[\"henri\",\"grumpy\",\"lucy\"],\"octopi\":\"\",\"emus\":\"\"},\"plants\":\"\",\"other\":\"\"}"
   ]
  },
  {
   "cell_type": "code",
   "execution_count": 56,
   "id": "676776f3",
   "metadata": {},
   "outputs": [
    {
     "data": {
      "text/plain": [
       "dict_keys(['animal', 'plants', 'other'])"
      ]
     },
     "execution_count": 56,
     "metadata": {},
     "output_type": "execute_result"
    }
   ],
   "source": [
    "'''\n",
    "14. Print the top-level keys of life.\n",
    "Ans:\n",
    "'''\n",
    "life.keys()"
   ]
  },
  {
   "cell_type": "code",
   "execution_count": 62,
   "id": "2cbcfab1",
   "metadata": {},
   "outputs": [
    {
     "data": {
      "text/plain": [
       "dict_keys(['cat', 'octopi', 'emus'])"
      ]
     },
     "execution_count": 62,
     "metadata": {},
     "output_type": "execute_result"
    }
   ],
   "source": [
    "'''\n",
    "15. Print the keys for life['animals'].\n",
    "Ans:\n",
    "'''\n",
    "life[\"animal\"].keys()"
   ]
  },
  {
   "cell_type": "code",
   "execution_count": 63,
   "id": "4e20efda",
   "metadata": {},
   "outputs": [
    {
     "data": {
      "text/plain": [
       "['henri', 'grumpy', 'lucy']"
      ]
     },
     "execution_count": 63,
     "metadata": {},
     "output_type": "execute_result"
    }
   ],
   "source": [
    "\"\"\"\n",
    "16. Print the values for life['animals']['cats']\n",
    "Ans:\n",
    "\"\"\"\n",
    "life['animal']['cat']"
   ]
  },
  {
   "cell_type": "code",
   "execution_count": null,
   "id": "bd18acfe",
   "metadata": {},
   "outputs": [],
   "source": []
  }
 ],
 "metadata": {
  "kernelspec": {
   "display_name": "Python 3 (ipykernel)",
   "language": "python",
   "name": "python3"
  },
  "language_info": {
   "codemirror_mode": {
    "name": "ipython",
    "version": 3
   },
   "file_extension": ".py",
   "mimetype": "text/x-python",
   "name": "python",
   "nbconvert_exporter": "python",
   "pygments_lexer": "ipython3",
   "version": "3.9.12"
  }
 },
 "nbformat": 4,
 "nbformat_minor": 5
}
