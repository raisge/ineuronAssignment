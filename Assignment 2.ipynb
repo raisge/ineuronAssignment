{
 "cells": [
  {
   "cell_type": "code",
   "execution_count": null,
   "id": "bd260e35",
   "metadata": {},
   "outputs": [],
   "source": [
    "1.What are the two values of the Boolean data type? How do you write them?\n",
    "Ans:\n",
    "    Two types of Boolean data are true & false\n",
    "    in both bool 1st alphabet in 'capital' letter & rest in lower case\n",
    "    True and False\n"
   ]
  },
  {
   "cell_type": "code",
   "execution_count": null,
   "id": "e1049435",
   "metadata": {},
   "outputs": [],
   "source": [
    "2.What are the three different types of Boolean operators?\n",
    "Ans:\n",
    "    or ,not,and are types of boolean operators"
   ]
  },
  {
   "cell_type": "code",
   "execution_count": null,
   "id": "908212ac",
   "metadata": {},
   "outputs": [],
   "source": [
    "3. Make a list of each Boolean operator & truth tables (i.e. every possible combination of Boolean\n",
    "   values for the operator and what it evaluate ).\n",
    "Ans:\n",
    "    True and True is True.\n",
    "    True and False is False.\n",
    "    False and True is False.\n",
    "    False and False is False.\n",
    "\n",
    "    True or True is True.\n",
    "    True or False is True.\n",
    "    False or True is True.\n",
    "    False or False is False.\n",
    "\n",
    "    not True is False.\n",
    "    not False is True.\n",
    "    "
   ]
  },
  {
   "cell_type": "code",
   "execution_count": null,
   "id": "8fe50e9f",
   "metadata": {},
   "outputs": [],
   "source": [
    "4. What are the values of the following expressions?\n",
    "Ans:\n",
    "(5 > 4) and (3 == 5)                    values is        False          \n",
    "not (5 > 4)                             values is        False\n",
    "(5 > 4) or (3 == 5)                     values is        True\n",
    "not ((5 > 4) or (3 == 5))               values is        False\n",
    "(True and True) and (True == False)     values is        False\n",
    "(not False) or (not True)               values is        True"
   ]
  },
  {
   "cell_type": "code",
   "execution_count": null,
   "id": "06b9f037",
   "metadata": {},
   "outputs": [],
   "source": [
    "5.What are the six comparison operators?\n",
    "Ans:\n",
    "    ==\n",
    "    <=\n",
    "    >=\n",
    "    <\n",
    "    >\n",
    "    !\n"
   ]
  },
  {
   "cell_type": "code",
   "execution_count": null,
   "id": "91737460",
   "metadata": {},
   "outputs": [],
   "source": [
    "6. How do you tell the difference between the equal to and assignment operators?\n",
    "    Describe a condition and when you would use one.\n",
    "Ans:\n",
    "    '=' assignment operator that stores a value in a variable.\n",
    "    '=='  compares two values and evaluates to a Boolean.\n",
    "    "
   ]
  },
  {
   "cell_type": "code",
   "execution_count": null,
   "id": "77f471d6",
   "metadata": {},
   "outputs": [],
   "source": [
    "7.Identify the three blocks in this code:\n",
    "    spam = 0\n",
    "    if spam == 10:\n",
    "    print(‘eggs’)\n",
    "    if spam >5:\n",
    "    print(‘bacon’)\n",
    "    else:\n",
    "    print(‘ham’)\n",
    "    print(‘spam’)\n",
    "    print(‘spam’)\n",
    "Ans:\n",
    "    spam = 0\n",
    "if spam == 10:\n",
    "    print('eggs') #Block 1\n",
    "if spam > 5:\n",
    "    print('bacon') #Block 2\n",
    "else:\n",
    "    print('ham') #Block 3\n",
    "    print('spam')\n",
    "    print('spam')    "
   ]
  },
  {
   "cell_type": "code",
   "execution_count": null,
   "id": "71a8485a",
   "metadata": {},
   "outputs": [],
   "source": [
    "\"\"\"\n",
    "Q8. Write code that prints Hello if 1 is stored in spam, prints Howdy if 2 is stored in spam,\n",
    "    and prints Greetings! if anything else is stored in spam.\n",
    "Ans:\n",
    "\"\"\"\n",
    "spam = int(input(\"input a number: \"))\n",
    "if spam == 1:\n",
    "   print(\"hello\")\n",
    "elif spam == 2:\n",
    "   print(\"Howdy\")\n",
    "else:\n",
    "   print(\"Greetings!\")\n"
   ]
  },
  {
   "cell_type": "code",
   "execution_count": null,
   "id": "06cbedd0",
   "metadata": {},
   "outputs": [],
   "source": [
    "9.If your programme is stuck in an endless loop, what keys you’ll press?\n",
    "Ans:\n",
    "     press ctrl+c. If program is stuck in endless loop "
   ]
  },
  {
   "cell_type": "code",
   "execution_count": null,
   "id": "9ecdd39d",
   "metadata": {},
   "outputs": [],
   "source": [
    "Q10. How can you tell the difference between break and continue?\n",
    "Ans:\n",
    "    The break statement will move the execution outside and just after a loop. \n",
    "    The continue statement will move the execution to the start of the loop."
   ]
  },
  {
   "cell_type": "code",
   "execution_count": null,
   "id": "ac3f31af",
   "metadata": {},
   "outputs": [],
   "source": [
    "11. In a for loop, what is the difference between range(10), range(0, 10), and range(0, 10, 1)?\n",
    "Ans:\n",
    "    They all do the same thing.\n",
    "    The range(10) call ranges from 0 up to (but not including) 10,\n",
    "    range(0, 10) explicitly tells the loop to start at 0, and\n",
    "    range(0, 10, 1) explicitly tells the loop to increase the variable by 1 on each iteration."
   ]
  },
  {
   "cell_type": "code",
   "execution_count": null,
   "id": "64ee247e",
   "metadata": {},
   "outputs": [],
   "source": [
    "Q12. Write a short program that prints the numbers 1 to 10 using a for loop. \n",
    "    Then write an equivalent program that prints the numbers 1 to 10 using a while loop.\n",
    "Ans:\n",
    "    \"for loop\"\n",
    "    for i in range(11):\n",
    "    print(i)\n",
    "    \n",
    "    \n",
    "    \"while loop\"\n",
    "    i = 1\n",
    "    while i <= 10:\n",
    "    print(i)\n",
    "    i = i+1"
   ]
  },
  {
   "cell_type": "code",
   "execution_count": null,
   "id": "34cc9f36",
   "metadata": {},
   "outputs": [],
   "source": [
    "Q13. If you had a function named bacon() inside a module named spam, how would you call it after importing spam?\n",
    "Ans:  \n",
    "    spam.bacon()"
   ]
  },
  {
   "cell_type": "code",
   "execution_count": null,
   "id": "194aa97c",
   "metadata": {},
   "outputs": [],
   "source": []
  }
 ],
 "metadata": {
  "kernelspec": {
   "display_name": "Python 3 (ipykernel)",
   "language": "python",
   "name": "python3"
  },
  "language_info": {
   "codemirror_mode": {
    "name": "ipython",
    "version": 3
   },
   "file_extension": ".py",
   "mimetype": "text/x-python",
   "name": "python",
   "nbconvert_exporter": "python",
   "pygments_lexer": "ipython3",
   "version": "3.9.12"
  }
 },
 "nbformat": 4,
 "nbformat_minor": 5
}
