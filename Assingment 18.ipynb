{
 "cells": [
  {
   "cell_type": "code",
   "execution_count": 1,
   "id": "98bc155c",
   "metadata": {},
   "outputs": [],
   "source": [
    "\"\"\"\n",
    "1. Create a zoo.py file first. Define the hours() function, which prints the string Open 9-5 daily\n",
    "Then, use the interactive interpreter to import the zoo module and call its hours() function.\n",
    "Ans:\n",
    "\"\"\"\n",
    "import zoo"
   ]
  },
  {
   "cell_type": "code",
   "execution_count": 2,
   "id": "7bc46a04",
   "metadata": {},
   "outputs": [
    {
     "name": "stdout",
     "output_type": "stream",
     "text": [
      "OPEN TIME 9 TO 5 DAILY\n"
     ]
    }
   ],
   "source": [
    "zoo.hour()"
   ]
  },
  {
   "cell_type": "code",
   "execution_count": 3,
   "id": "94123a35",
   "metadata": {},
   "outputs": [
    {
     "name": "stdout",
     "output_type": "stream",
     "text": [
      "OPEN TIME 9 TO 5 DAILY\n"
     ]
    }
   ],
   "source": [
    "\"\"\"\n",
    "2. In the interactive interpreter, import the zoo module as menagerie and call its hours() function.\n",
    "Ans:\n",
    "\"\"\"\n",
    "\n",
    "import zoo as menagerie\n",
    "menagerie.hour()"
   ]
  },
  {
   "cell_type": "code",
   "execution_count": 4,
   "id": "07f6726e",
   "metadata": {},
   "outputs": [
    {
     "name": "stdout",
     "output_type": "stream",
     "text": [
      "OPEN TIME 9 TO 5 DAILY\n"
     ]
    }
   ],
   "source": [
    "\"\"\"\n",
    "3. Using the interpreter, explicitly import and call the hours() function from zoo.\n",
    "Ans:\n",
    "\"\"\"\n",
    "from zoo import hour\n",
    "hour()"
   ]
  },
  {
   "cell_type": "code",
   "execution_count": 5,
   "id": "1c1e82b6",
   "metadata": {},
   "outputs": [
    {
     "name": "stdout",
     "output_type": "stream",
     "text": [
      "OPEN TIME 9 TO 5 DAILY\n"
     ]
    }
   ],
   "source": [
    "\"\"\"\n",
    "4. Import the hours() function as info and call it.\n",
    "Ans:\n",
    "\"\"\"\n",
    "from zoo import hour as info\n",
    "info()"
   ]
  },
  {
   "cell_type": "code",
   "execution_count": 6,
   "id": "8c420ee7",
   "metadata": {},
   "outputs": [
    {
     "name": "stdout",
     "output_type": "stream",
     "text": [
      "{'a': 1, 'b': 2, 'c': 3}\n"
     ]
    }
   ],
   "source": [
    "\"\"\"\n",
    "5.Create a plain dictionary with the key-value pairs a: 1, b: 2, and c: 3, and print it out.\n",
    "Ans:\n",
    "\"\"\"\n",
    "plain={\"a\":1,\"b\":2,\"c\":3}\n",
    "print(plain)"
   ]
  },
  {
   "cell_type": "code",
   "execution_count": 8,
   "id": "d6c930a9",
   "metadata": {},
   "outputs": [
    {
     "name": "stdout",
     "output_type": "stream",
     "text": [
      "OrderedDict([('a', 1), ('b', 2), ('c', 3)])\n"
     ]
    }
   ],
   "source": [
    "\"\"\"\n",
    "6.Make an OrderedDict called fancy from the same pairs listed in 5 and print it. Did it print in the\n",
    "same order as plain?\n",
    "Ans:\n",
    "\"\"\"\n",
    "from collections import OrderedDict\n",
    "fancy=OrderedDict({\"a\":1,\"b\":2,\"c\":3})\n",
    "print(fancy)\n",
    "\n"
   ]
  },
  {
   "cell_type": "code",
   "execution_count": 15,
   "id": "a6582dd9",
   "metadata": {},
   "outputs": [
    {
     "data": {
      "text/plain": [
       "['something for a']"
      ]
     },
     "execution_count": 15,
     "metadata": {},
     "output_type": "execute_result"
    }
   ],
   "source": [
    "\"\"\"\n",
    "7. Make a default dictionary called dict_of_lists and pass it the argument list. Make the list\n",
    "dict_of_lists['a'] and append the value something for 'a' to it in one assignment. Print\n",
    "dict_of_lists['a'].\n",
    "Ans:\n",
    "\"\"\"\n",
    "from collections import defaultdict\n",
    "dict_of_lists = defaultdict(list)\n",
    "dict_of_lists['a'].append('something for a')\n",
    "dict_of_lists['a']\n",
    "     "
   ]
  },
  {
   "cell_type": "code",
   "execution_count": null,
   "id": "404ee797",
   "metadata": {},
   "outputs": [],
   "source": []
  }
 ],
 "metadata": {
  "kernelspec": {
   "display_name": "Python 3 (ipykernel)",
   "language": "python",
   "name": "python3"
  },
  "language_info": {
   "codemirror_mode": {
    "name": "ipython",
    "version": 3
   },
   "file_extension": ".py",
   "mimetype": "text/x-python",
   "name": "python",
   "nbconvert_exporter": "python",
   "pygments_lexer": "ipython3",
   "version": "3.9.12"
  }
 },
 "nbformat": 4,
 "nbformat_minor": 5
}
