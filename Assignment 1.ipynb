{
 "cells": [
  {
   "cell_type": "code",
   "execution_count": null,
   "id": "c1008303",
   "metadata": {},
   "outputs": [],
   "source": [
    "1. In the below elements which of them are values or an expression? eg:- values can be integer or string and expressions will be mathematical operators.\n",
    "* \n",
    "'hello'\n",
    "-87.8\n",
    "- \n",
    "/ \n",
    "+\t\n",
    "6 \n",
    "Ans:\n",
    "    values  = 'hello', -87.8,6\n",
    "    Expression  = * , - , / , +\n"
   ]
  },
  {
   "cell_type": "code",
   "execution_count": null,
   "id": "0d1d4aa5",
   "metadata": {},
   "outputs": [],
   "source": [
    "2. What is the difference between string and variable?\n",
    "Ans:\n",
    "    variable is a memory location wherein the data is stored & string is one of the data type.\n",
    "    String always start & end with qutoes\n",
    "       eg:  a=('ineuron')  \"a\" is avariables\n",
    "                           'ineuron' is strings"
   ]
  },
  {
   "cell_type": "code",
   "execution_count": null,
   "id": "3dd22bbc",
   "metadata": {},
   "outputs": [],
   "source": [
    "3. Describe three different data types.\n",
    "Ans:\n",
    "    integer(int)  numerical data type\n",
    "    string(str)   text data type\n",
    "    boolean(bool) True and False"
   ]
  },
  {
   "cell_type": "code",
   "execution_count": null,
   "id": "db8e9005",
   "metadata": {},
   "outputs": [],
   "source": [
    "4. What is an expression made up of? What do all expressions do?\n",
    "Ans:\n",
    "    It is a combination of operators which gives another value."
   ]
  },
  {
   "cell_type": "code",
   "execution_count": null,
   "id": "15b9d293",
   "metadata": {},
   "outputs": [],
   "source": [
    "5. This assignment statements, like spam = 10. What is the difference between an expression and a statement?\n",
    "Ans:\n",
    "    Expression is combinations of variables operations that results in value.\n",
    "    Statement means instruction which interpreter can execute. \n",
    "    Expression evaluates to single value and statement doesn't.\n",
    "\n"
   ]
  },
  {
   "cell_type": "code",
   "execution_count": null,
   "id": "d3e423c5",
   "metadata": {},
   "outputs": [],
   "source": [
    "6. After running the following code, what does the variable bacon contain?\n",
    "bacon = 22\n",
    "bacon + 1\n",
    "Ans:\n",
    "    bacon = 23"
   ]
  },
  {
   "cell_type": "code",
   "execution_count": null,
   "id": "28c732b0",
   "metadata": {},
   "outputs": [],
   "source": [
    "7. What should the values of the following two terms be?\n",
    "'spam' + 'spamspam'\n",
    "'spam' * 3\n",
    "Ans:\n",
    "    above both expressions will give below value\n",
    "    'spamspamspam'"
   ]
  },
  {
   "cell_type": "code",
   "execution_count": null,
   "id": "fd9f9e6a",
   "metadata": {},
   "outputs": [],
   "source": [
    "8. Why is eggs a valid variable name while 100 is invalid?\n",
    "Ans:\n",
    "    100 is a integer hence it's cannot be variable"
   ]
  },
  {
   "cell_type": "code",
   "execution_count": null,
   "id": "50da7d31",
   "metadata": {},
   "outputs": [],
   "source": [
    "9. What three functions can be used to get the integer, floating-point number, or string version of a value?\n",
    "Ans:\n",
    "    intrger =  int()\n",
    "    floating-point number = float()\n",
    "    string = str()"
   ]
  },
  {
   "cell_type": "code",
   "execution_count": null,
   "id": "e65c4a14",
   "metadata": {},
   "outputs": [],
   "source": [
    "10. Why does this expression cause an error? How can you fix it?\n",
    "'I have eaten ' + 99 + ' burritos.'\n",
    "Ans:\n",
    "    As string cannot be added with integer\n",
    "    fix\n",
    "    'I have eaten ' + '99' + ' burritos.'"
   ]
  },
  {
   "cell_type": "code",
   "execution_count": null,
   "id": "597306c2",
   "metadata": {},
   "outputs": [],
   "source": []
  }
 ],
 "metadata": {
  "kernelspec": {
   "display_name": "Python 3 (ipykernel)",
   "language": "python",
   "name": "python3"
  },
  "language_info": {
   "codemirror_mode": {
    "name": "ipython",
    "version": 3
   },
   "file_extension": ".py",
   "mimetype": "text/x-python",
   "name": "python",
   "nbconvert_exporter": "python",
   "pygments_lexer": "ipython3",
   "version": "3.9.12"
  }
 },
 "nbformat": 4,
 "nbformat_minor": 5
}
