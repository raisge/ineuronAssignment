{
 "cells": [
  {
   "cell_type": "code",
   "execution_count": null,
   "id": "e719cc98",
   "metadata": {},
   "outputs": [],
   "source": [
    "1. What does RGBA stand for?\n",
    "Ans:\n",
    "    RGBA stand for Red-Green-Blue-Alpha"
   ]
  },
  {
   "cell_type": "code",
   "execution_count": null,
   "id": "f3748b97",
   "metadata": {},
   "outputs": [],
   "source": [
    "2. From the Pillow module, how do you get the RGBA value of any images?\n",
    "Ans:\n",
    "    import the Image module from the Pillow library. from PIL import Image.\n",
    "    Open any image and get the RAGB values. img = Image.open('image.png') rgba = img.convert(“RGBA”) ..."
   ]
  },
  {
   "cell_type": "code",
   "execution_count": null,
   "id": "36750ad3",
   "metadata": {},
   "outputs": [],
   "source": [
    "3. What is a box tuple, and how does it work?\n",
    "Ans:\n",
    "    The box. tuple submodule provides read-only access for the tuple userdata type."
   ]
  },
  {
   "cell_type": "code",
   "execution_count": null,
   "id": "762e6c8d",
   "metadata": {},
   "outputs": [],
   "source": [
    "4. Use your image and load in notebook then, How can you find out the width and height of an\n",
    "Image object?\n",
    "Ans:\n",
    "    In order to find the height and width of an image, there are two approaches. \n",
    "    The first approach is by using the PIL(Pillow) library and \n",
    "    the second approach is by using the Open-CV library.\n",
    "    \n",
    "    image = PIL. Image. open(\"sample.png\")image to open.\n",
    "    width, height = image. size. extract width and height from output tuple.\n",
    "    print(width, height)"
   ]
  },
  {
   "cell_type": "code",
   "execution_count": null,
   "id": "1b83c0a3",
   "metadata": {},
   "outputs": [],
   "source": [
    "5. What method would you call to get Image object for a 100×100 image, excluding the lower-left\n",
    "quarter of it?\n",
    "Ans:\n",
    "    By calling getpixel() method."
   ]
  },
  {
   "cell_type": "code",
   "execution_count": null,
   "id": "b11e6f2d",
   "metadata": {},
   "outputs": [],
   "source": [
    "6. After making changes to an Image object, how could you save it as an image file?\n",
    "Ans:\n",
    "    To save images, we can use the PIL. save() function.\n",
    "    This function is used to export an image to an external file.\n",
    "    But to use this function, first, we should have an object which contains an image."
   ]
  },
  {
   "cell_type": "code",
   "execution_count": null,
   "id": "f6bd2ae1",
   "metadata": {},
   "outputs": [],
   "source": [
    "7. What module contains Pillow’s shape-drawing code?\n",
    "Ans:\n",
    "    The 'ImageDraw' module provides simple 2D graphics support for Image Object."
   ]
  },
  {
   "cell_type": "code",
   "execution_count": null,
   "id": "2981b7db",
   "metadata": {},
   "outputs": [],
   "source": [
    "8. Image objects do not have drawing methods. What kind of object does? How do you get this kind\n",
    "of object?\n",
    "Ans:\n",
    "     ImageDraw module of the Python image processing library Pillow (PIL) provides a number of methods \n",
    "     for drawing figures such as circle, square, and straight line. \n",
    "     We get this kind of module by importing Pillow module."
   ]
  },
  {
   "cell_type": "code",
   "execution_count": null,
   "id": "2e17e059",
   "metadata": {},
   "outputs": [],
   "source": []
  },
  {
   "cell_type": "code",
   "execution_count": null,
   "id": "900c8e07",
   "metadata": {},
   "outputs": [],
   "source": []
  }
 ],
 "metadata": {
  "kernelspec": {
   "display_name": "Python 3 (ipykernel)",
   "language": "python",
   "name": "python3"
  },
  "language_info": {
   "codemirror_mode": {
    "name": "ipython",
    "version": 3
   },
   "file_extension": ".py",
   "mimetype": "text/x-python",
   "name": "python",
   "nbconvert_exporter": "python",
   "pygments_lexer": "ipython3",
   "version": "3.9.12"
  }
 },
 "nbformat": 4,
 "nbformat_minor": 5
}
