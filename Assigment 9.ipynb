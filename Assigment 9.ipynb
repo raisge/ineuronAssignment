{
 "cells": [
  {
   "cell_type": "code",
   "execution_count": null,
   "id": "3babad1c",
   "metadata": {},
   "outputs": [],
   "source": [
    "1. To what does a relative path refer?\n",
    "Ans:\n",
    "   A relative path refers  to a current path directory."
   ]
  },
  {
   "cell_type": "code",
   "execution_count": null,
   "id": "30707606",
   "metadata": {},
   "outputs": [],
   "source": [
    "2. What does an absolute path start with your operating system?\n",
    "Ans:\n",
    "   Absolute paths start with the root folder, such as / or C:\\."
   ]
  },
  {
   "cell_type": "code",
   "execution_count": null,
   "id": "7a3c8f03",
   "metadata": {},
   "outputs": [],
   "source": [
    "3. What do the functions os.getcwd() and os.chdir() do?\n",
    "Ans:\n",
    "    os.getcwd() function returns the current working directory.\n",
    "    os.chdir() function changes the current working directory"
   ]
  },
  {
   "cell_type": "code",
   "execution_count": null,
   "id": "5b2d5af3",
   "metadata": {},
   "outputs": [],
   "source": [
    "4. What are the . and .. folders?\n",
    "Ans:\n",
    "    '. ' represents the current directory. \n",
    "    '..' represents the parent directory"
   ]
  },
  {
   "cell_type": "code",
   "execution_count": null,
   "id": "5728a146",
   "metadata": {},
   "outputs": [],
   "source": [
    "5. In C:\\bacon\\eggs\\spam.txt, which part is the dir name, and which part is the base name?\n",
    "Ans:\n",
    "    C:\\bacon\\eggs\\ is the dir name\n",
    "    spam.txt is the base name"
   ]
  },
  {
   "cell_type": "code",
   "execution_count": null,
   "id": "afdb8b06",
   "metadata": {},
   "outputs": [],
   "source": [
    "6. What are the three “mode” arguments that can be passed to the open() function?\n",
    "Ans:\n",
    "    r : Opens the file in read-only mode. ...\n",
    "    rb : Opens the file as read-only in binary format and starts reading from the beginning of the file. ...\n",
    "    r+ : Opens a file for reading and writing, placing the pointer at the beginning of the file"
   ]
  },
  {
   "cell_type": "code",
   "execution_count": null,
   "id": "b7da0efb",
   "metadata": {},
   "outputs": [],
   "source": [
    "7. What happens if an existing file is opened in write mode?\n",
    "Ans:\n",
    "    An existing file opened in write mode is erased and completely overwritten"
   ]
  },
  {
   "cell_type": "code",
   "execution_count": null,
   "id": "c590c3b4",
   "metadata": {},
   "outputs": [],
   "source": [
    "8. How do you tell the difference between read() and readlines()?\n",
    "Ans:\n",
    "    The read() method returns the file’s entire contents as a single string value.\n",
    "    The readlines() method returns a list of strings, where each string is a line from the file’s contents."
   ]
  },
  {
   "cell_type": "code",
   "execution_count": null,
   "id": "8bfc153c",
   "metadata": {},
   "outputs": [],
   "source": [
    "9. What data structure does a shelf value resemble?\n",
    "Ans:\n",
    "    A shelf value resembles a dictionary value, it has keys and values, along with keys() and values() methods\n",
    "    that work similarly to the dictionary methods of the same names."
   ]
  }
 ],
 "metadata": {
  "kernelspec": {
   "display_name": "Python 3 (ipykernel)",
   "language": "python",
   "name": "python3"
  },
  "language_info": {
   "codemirror_mode": {
    "name": "ipython",
    "version": 3
   },
   "file_extension": ".py",
   "mimetype": "text/x-python",
   "name": "python",
   "nbconvert_exporter": "python",
   "pygments_lexer": "ipython3",
   "version": "3.9.12"
  }
 },
 "nbformat": 4,
 "nbformat_minor": 5
}
