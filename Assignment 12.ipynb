{
 "cells": [
  {
   "cell_type": "code",
   "execution_count": null,
   "id": "a8fc26f6",
   "metadata": {},
   "outputs": [],
   "source": [
    "1. In what modes should the PdfFileReader() and PdfFileWriter() File objects will be opened?\n",
    "Ans:\n",
    "    PdfFileReader() file objects should be opened in rb -> read binary mode,\n",
    "    PdfFileWriter() file objects should be opened in wb -> write binary mode."
   ]
  },
  {
   "cell_type": "code",
   "execution_count": null,
   "id": "ddef78be",
   "metadata": {},
   "outputs": [],
   "source": [
    "2. From a PdfFileReader object, how do you get a Page object for page 5?\n",
    "Ans:\n",
    "    By calling the getPage() method on a PdfFileReader object and \n",
    "    passing it the page number of the page you"
   ]
  },
  {
   "cell_type": "code",
   "execution_count": null,
   "id": "6ebbb280",
   "metadata": {},
   "outputs": [],
   "source": [
    "3. What PdfFileReader variable stores the number of pages in the PDF document?\n",
    "Ans:\n",
    "    The total number of pages in the document is stored in the numPages attribute of a PdfFileReader"
   ]
  },
  {
   "cell_type": "code",
   "execution_count": null,
   "id": "562f94cf",
   "metadata": {},
   "outputs": [],
   "source": [
    "4. If a PdfFileReader object’s PDF is encrypted with the password swordfish, what must you do\n",
    "before you can obtain Page objects from it?\n",
    "Ans:\n",
    "    what first we need to check is the file is encrypted.\n",
    "    then we need to use the decrypt method and pass the password to decrypt it"
   ]
  },
  {
   "cell_type": "code",
   "execution_count": null,
   "id": "d3e044fa",
   "metadata": {},
   "outputs": [],
   "source": [
    "5. What methods do you use to rotate a page?\n",
    "Ans:\n",
    "      rotateClockwise() and\n",
    "      rotateCounterClockwise() methods."
   ]
  },
  {
   "cell_type": "code",
   "execution_count": null,
   "id": "c6ba368c",
   "metadata": {},
   "outputs": [],
   "source": [
    "6. What is the difference between a Run object and a Paragraph object?\n",
    "Ans:\n",
    "    Paragraph objects can be added only to the end of the document, and\n",
    "    Run objects can be added only to the end of a Paragraph object. \n",
    "    "
   ]
  },
  {
   "cell_type": "code",
   "execution_count": null,
   "id": "14061352",
   "metadata": {},
   "outputs": [],
   "source": [
    "7. How do you obtain a list of Paragraph objects for a Document object that’s stored in a variable\n",
    "named doc?\n",
    "Ans:\n",
    "    import docx\n",
    "doc=docx.Document('Assignment_12.docx')\n",
    "doc.paragraphs"
   ]
  },
  {
   "cell_type": "code",
   "execution_count": null,
   "id": "142a6472",
   "metadata": {},
   "outputs": [],
   "source": [
    "8. What type of object has bold, underline, italic, strike, and outline variables?\n",
    "Ans:\n",
    "    run object"
   ]
  },
  {
   "cell_type": "code",
   "execution_count": null,
   "id": "6270394a",
   "metadata": {},
   "outputs": [],
   "source": [
    "9. What is the difference between False, True, and None for the bold variable?\n",
    "Ans:\n",
    "    True means the property is “on”, \n",
    "    False means it is “off”. Conceptually,\n",
    "    None value means “inherit”."
   ]
  },
  {
   "cell_type": "code",
   "execution_count": null,
   "id": "48fdb93f",
   "metadata": {},
   "outputs": [],
   "source": [
    "10. How do you create a Document object for a new Word document?\n",
    "Ans:\n",
    "    doc=docx.Document('ineuron.docx')"
   ]
  },
  {
   "cell_type": "code",
   "execution_count": null,
   "id": "b4998ac3",
   "metadata": {},
   "outputs": [],
   "source": [
    "11 How do you add a paragraph with the text 'Hello, there!' to a Document object stored in a variable named doc?\n",
    "Ans:\n",
    "    import docx\n",
    "    doc = docx.Document('ineuron.docx')\n",
    "    doc.add_paragraph('Hello there!')\n",
    "    doc.save('ineuron.docx')"
   ]
  },
  {
   "cell_type": "code",
   "execution_count": null,
   "id": "478cba84",
   "metadata": {},
   "outputs": [],
   "source": [
    "12. What integers represent the levels of headings available in Word documents?\n",
    "Ans1:\n",
    "    top-level headings (Heading 1) are numbered 1, 2, 3,"
   ]
  }
 ],
 "metadata": {
  "kernelspec": {
   "display_name": "Python 3 (ipykernel)",
   "language": "python",
   "name": "python3"
  },
  "language_info": {
   "codemirror_mode": {
    "name": "ipython",
    "version": 3
   },
   "file_extension": ".py",
   "mimetype": "text/x-python",
   "name": "python",
   "nbconvert_exporter": "python",
   "pygments_lexer": "ipython3",
   "version": "3.9.12"
  }
 },
 "nbformat": 4,
 "nbformat_minor": 5
}
