{
 "cells": [
  {
   "cell_type": "code",
   "execution_count": null,
   "id": "80b16ec4",
   "metadata": {},
   "outputs": [],
   "source": [
    "1. What advantages do Excel spreadsheets have over CSV spreadsheets?\n",
    "Ans:\n",
    "    Excel spreasheets can be used to store more complex data compared to CSV files.\n",
    "    csv is a flat file and doesn't allow you to perform any operations on it. \n",
    "    whereas, you can apply mathematical formulas on the data present in an excel file. \n",
    "    Therefore, pandas library is predominatly used to write a csv file into a dataframe so EDA can be achieved."
   ]
  },
  {
   "cell_type": "code",
   "execution_count": null,
   "id": "c4e1d3b0",
   "metadata": {},
   "outputs": [],
   "source": [
    "2.What do you pass to csv.reader() and csv.writer() to create reader and writer objects?\n",
    "Ans:\n",
    "    import csv\n",
    "    with open(\"my_csv_file.csv\",\"wb\") as f:\n",
    "    csv_writer = csv.writer(f)\n",
    "      "
   ]
  },
  {
   "cell_type": "code",
   "execution_count": null,
   "id": "d7abe9a5",
   "metadata": {},
   "outputs": [],
   "source": [
    "3. What modes do File objects for reader and writer objects need to be opened in?\n",
    "Ans:\n",
    "    \"rb\" for read mode\n",
    "    \"wb\" for write mode"
   ]
  },
  {
   "cell_type": "code",
   "execution_count": null,
   "id": "a8c3dbf4",
   "metadata": {},
   "outputs": [],
   "source": [
    "4. What method takes a list argument and writes it to a CSV file?\n",
    "Ans:\n",
    "     writerow() method of writer and DictWriter"
   ]
  },
  {
   "cell_type": "code",
   "execution_count": null,
   "id": "318e541f",
   "metadata": {},
   "outputs": [],
   "source": [
    "5. What do the keyword arguments delimiter and line terminator do?\n",
    "Ans:\n",
    "    The delimiter is the character that appears between cells on a row. the delimiter for a CSV file is a comma.\n",
    "    The line terminator is the character that comes at the end of a row. By default, the line terminator is a newline."
   ]
  },
  {
   "cell_type": "code",
   "execution_count": null,
   "id": "8259c684",
   "metadata": {},
   "outputs": [],
   "source": [
    "6. What function takes a string of JSON data and returns a Python data structure?\n",
    "Ans:\n",
    "    json.loads() method."
   ]
  },
  {
   "cell_type": "code",
   "execution_count": null,
   "id": "0a18e486",
   "metadata": {},
   "outputs": [],
   "source": [
    "7. What function takes a Python data structure and returns a string of JSON data?\n",
    "Ans:\n",
    "    json.dumps() method."
   ]
  }
 ],
 "metadata": {
  "kernelspec": {
   "display_name": "Python 3 (ipykernel)",
   "language": "python",
   "name": "python3"
  },
  "language_info": {
   "codemirror_mode": {
    "name": "ipython",
    "version": 3
   },
   "file_extension": ".py",
   "mimetype": "text/x-python",
   "name": "python",
   "nbconvert_exporter": "python",
   "pygments_lexer": "ipython3",
   "version": "3.9.12"
  }
 },
 "nbformat": 4,
 "nbformat_minor": 5
}
