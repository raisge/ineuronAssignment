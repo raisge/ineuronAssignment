{
 "cells": [
  {
   "cell_type": "raw",
   "id": "8f202788",
   "metadata": {},
   "source": [
    "1. Why are functions advantageous to have in your programs?\n",
    "Ans:\n",
    "    Functions reduce the need for duplicate code. \n",
    "    This makes programs shorter, easier to read, and easier to update.\n",
    "    "
   ]
  },
  {
   "cell_type": "raw",
   "id": "ec99c7e8",
   "metadata": {},
   "source": [
    "Q2. When does the code in a function run:when it's specified or when it's called?\n",
    "Ans:\n",
    "    code in a function run when it's called"
   ]
  },
  {
   "cell_type": "raw",
   "id": "6028d71d",
   "metadata": {},
   "source": [
    "Q3. What statement creates a function?\n",
    "Ans:\n",
    "    def statement creates a function\n",
    "    eg:  def my_ineuron():"
   ]
  },
  {
   "cell_type": "raw",
   "id": "f1ca0e36",
   "metadata": {},
   "source": [
    "4. What is the difference between a function and a function call?\n",
    "Ans:\n",
    "    A function is a code that does paticular operation and returns a result.\n",
    "    A function call is the code used to pass control to a function\n",
    "    \n",
    "    eg: def my_ineuron(): #def of function\n",
    "        my_ineuron()   #calling of funtion"
   ]
  },
  {
   "cell_type": "raw",
   "id": "4cc337bd",
   "metadata": {},
   "source": [
    "5.How many global scopes are there in a Python program? How many local scopes?\n",
    "Ans:\n",
    "    There is one global scope, and a local scope is created whenever a function is called.\n",
    "    "
   ]
  },
  {
   "cell_type": "raw",
   "id": "cc8c9369",
   "metadata": {},
   "source": [
    "6. What happens to variables in a local scope when the function call returns?\n",
    "Ans:\n",
    "    When a function returns, the local scope is destroyed, and all the variables in it are forgotten."
   ]
  },
  {
   "cell_type": "raw",
   "id": "6b4c23b7",
   "metadata": {},
   "source": [
    "7. What is the concept of a return value? Is it possible to have a return value in an expression?\n",
    "Ans:\n",
    "    A return value is the value that a function call evaluates to.\n",
    "    A return value can be used as part of an expression."
   ]
  },
  {
   "cell_type": "raw",
   "id": "20bc7166",
   "metadata": {},
   "source": [
    "8. If a function does not have a return statement, what is the return value of a call to that function?\n",
    "Ans:\n",
    "    If there is no return statement for a function, its return value is None."
   ]
  },
  {
   "cell_type": "raw",
   "id": "3783482d",
   "metadata": {},
   "source": [
    "9. How do you make a function variable refer to the global variable?\n",
    "Ans:\n",
    "    when you create a variable inside a function, that variable is local, and can only be used inside that function.\n",
    "    To create a global variable inside a function, you can use the global keyword.\n",
    "    "
   ]
  },
  {
   "cell_type": "raw",
   "id": "7e2e0f00",
   "metadata": {},
   "source": [
    "10. What is the data type of None?\n",
    "Ans:\n",
    "    None is a data type of its own (NoneType) and only None can be None."
   ]
  },
  {
   "cell_type": "raw",
   "id": "12d7012c",
   "metadata": {},
   "source": [
    "11. What does the sentence import areallyourpetsnamederic do?\n",
    "Ans:\n",
    "    That import statement imports a module named areallyourpetsnamederic. "
   ]
  },
  {
   "cell_type": "raw",
   "id": "664a64b1",
   "metadata": {},
   "source": [
    "12. If you had a bacon() feature in a spam module, what would you call it after importing spam?\n",
    "Ans:\n",
    "    import spam\n",
    "    spam.bacon()"
   ]
  },
  {
   "cell_type": "raw",
   "id": "c1d88ddd",
   "metadata": {},
   "source": [
    "13. What can you do to save a programme from crashing if it encounters an error?\n",
    "Ans:\n",
    "    we have moved our code inside a try and except statement.\n",
    "    to save a program instead of crashing the program"
   ]
  },
  {
   "cell_type": "raw",
   "id": "d8dd0e79",
   "metadata": {},
   "source": [
    "14. What is the purpose of the try clause? What is the purpose of the except clause?\n",
    "Ans:\n",
    "    Try and Except clause is used to handle the errors within our code .\n",
    "    The try block is used to check some code for errors i.e the code inside the try block will execute when there is no error in the program. \n",
    "    Whereas the code inside the except block will execute whenever the program encounters some error in the try block.\n",
    "\n",
    "Eg. try:\n",
    "# Code\n",
    "except:\n",
    "# Executed if error in the\n",
    "# try block\n",
    "    "
   ]
  }
 ],
 "metadata": {
  "kernelspec": {
   "display_name": "Python 3 (ipykernel)",
   "language": "python",
   "name": "python3"
  },
  "language_info": {
   "codemirror_mode": {
    "name": "ipython",
    "version": 3
   },
   "file_extension": ".py",
   "mimetype": "text/x-python",
   "name": "python",
   "nbconvert_exporter": "python",
   "pygments_lexer": "ipython3",
   "version": "3.9.12"
  }
 },
 "nbformat": 4,
 "nbformat_minor": 5
}
