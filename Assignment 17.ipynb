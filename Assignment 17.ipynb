{
 "cells": [
  {
   "cell_type": "code",
   "execution_count": 1,
   "id": "1ed75800",
   "metadata": {},
   "outputs": [
    {
     "name": "stdout",
     "output_type": "stream",
     "text": [
      "just right\n"
     ]
    }
   ],
   "source": [
    "\"\"\"\n",
    "1. Assign the value 7 to the variable guess_me. Then, write the conditional tests (if, else, and elif) to\n",
    "print the string too low if guess_me is less than 7, too high; if greater than 7, and just right if equal\n",
    "to 7.\n",
    "Ans:\n",
    "\"\"\"\n",
    "guess_me =7\n",
    "if guess_me < 7:\n",
    "    print(\"too low\")\n",
    "elif guess_me > 7:\n",
    "    print(\"too high\")\n",
    "else:\n",
    "    print(\"just right\")"
   ]
  },
  {
   "cell_type": "code",
   "execution_count": 2,
   "id": "e3ce4874",
   "metadata": {},
   "outputs": [
    {
     "name": "stdout",
     "output_type": "stream",
     "text": [
      "3\n",
      "2\n",
      "1\n",
      "0\n"
     ]
    }
   ],
   "source": [
    "\"\"\"\n",
    "3. Print the following values of the list [3, 2, 1, 0] using a for loop.\n",
    "Ans:\n",
    "\"\"\"\n",
    "list = [3,2,1,0]\n",
    "for i in list:\n",
    "    print(i)\n"
   ]
  },
  {
   "cell_type": "code",
   "execution_count": 3,
   "id": "ab456b4b",
   "metadata": {},
   "outputs": [
    {
     "name": "stdout",
     "output_type": "stream",
     "text": [
      "[0, 2, 4, 6, 8]\n"
     ]
    }
   ],
   "source": [
    "\"\"\"\n",
    "4. Use a list comprehension to make a list of the even numbers in range(10)\n",
    "Ans:\n",
    "\"\"\"\n",
    "even=[i for i in range(10) if i%2==0]\n",
    "print(even)\n"
   ]
  },
  {
   "cell_type": "code",
   "execution_count": 4,
   "id": "83c02431",
   "metadata": {},
   "outputs": [
    {
     "name": "stdout",
     "output_type": "stream",
     "text": [
      "{0: 0, 1: 1, 2: 4, 3: 9, 4: 16, 5: 25, 6: 36, 7: 49, 8: 64, 9: 81}\n"
     ]
    }
   ],
   "source": [
    "\"\"\"\n",
    "5. Use a dictionary comprehension to create the dictionary squares. Use range(10) to return the\n",
    "keys, and use the square of each key as its value.\n",
    "Ans:\n",
    "\"\"\"\n",
    "number_square = {key:key**2 for key in range(10)}\n",
    "print(number_square)\n"
   ]
  },
  {
   "cell_type": "code",
   "execution_count": 5,
   "id": "94eeb6eb",
   "metadata": {},
   "outputs": [
    {
     "name": "stdout",
     "output_type": "stream",
     "text": [
      "{1, 3, 5, 7, 9}\n"
     ]
    }
   ],
   "source": [
    "\"\"\"\n",
    "6. Construct the set odd from the odd numbers in the range using a set comprehension (10).\n",
    "Ans:\n",
    "\"\"\"\n",
    "odd = {i for i in range(10) if i%2==1}\n",
    "print(odd)"
   ]
  },
  {
   "cell_type": "code",
   "execution_count": 8,
   "id": "568a780d",
   "metadata": {},
   "outputs": [
    {
     "name": "stdout",
     "output_type": "stream",
     "text": [
      "Got 0\n",
      "Got 1\n",
      "Got 2\n",
      "Got 3\n",
      "Got 4\n",
      "Got 5\n",
      "Got 6\n",
      "Got 7\n",
      "Got 8\n",
      "Got 9\n"
     ]
    }
   ],
   "source": [
    "\"\"\"\n",
    "7. Use a generator comprehension to return the string Got and a number for the numbers in\n",
    "range(10). Iterate through this by using a for loop.\n",
    "Ans:\n",
    "\"\"\"\n",
    "string_generator = ('Got ' + str(num) for num in range(10))\n",
    "for item in string_generator:\n",
    "    print(item)"
   ]
  },
  {
   "cell_type": "code",
   "execution_count": 12,
   "id": "acec3535",
   "metadata": {},
   "outputs": [
    {
     "name": "stdout",
     "output_type": "stream",
     "text": [
      "('Harry', 'Ron', 'Hermione')\n"
     ]
    }
   ],
   "source": [
    "\"\"\"\n",
    "8. Define a function called good that returns the list [Harry,Ron,Hermione].\n",
    "Ans:\n",
    "\"\"\"\n",
    "def good():\n",
    "    return \"Harry\",\"Ron\",\"Hermione\"\n",
    "print(good())"
   ]
  },
  {
   "cell_type": "code",
   "execution_count": 15,
   "id": "3e992372",
   "metadata": {},
   "outputs": [
    {
     "name": "stdout",
     "output_type": "stream",
     "text": [
      "5\n"
     ]
    }
   ],
   "source": [
    "\"\"\"\n",
    "9. Define a generator function called get_odds that returns the odd numbers from range(10). Use a\n",
    "for loop to find and print the third value returned.\n",
    "Ans:\n",
    "\"\"\"\n",
    "def get_odds():\n",
    "    for i in range(10):\n",
    "        if i % 2 ==1:\n",
    "            yield i\n",
    "\n",
    "count=1         \n",
    "for item in get_odds():\n",
    "    count +=1\n",
    "    if count == 4 :\n",
    "        print(item)"
   ]
  },
  {
   "cell_type": "code",
   "execution_count": 16,
   "id": "d1f2af84",
   "metadata": {},
   "outputs": [
    {
     "name": "stdout",
     "output_type": "stream",
     "text": [
      "Caught an oops\n"
     ]
    }
   ],
   "source": [
    "\"\"\"\n",
    "10. Define an exception called OopsException. Raise this exception to see what happens. Then write\n",
    "the code to catch this exception and print Caught an oops.\n",
    "Ans:\n",
    "\"\"\"\n",
    "class OopsException(Exception):\n",
    "    pass\n",
    "\n",
    "\n",
    "def with_exception(num):\n",
    "    if num % 2 ==0:\n",
    "        raise OopsException(num)\n",
    "try:\n",
    "    with_exception(2)\n",
    "except OopsException as err:\n",
    "    print('Caught an oops')"
   ]
  },
  {
   "cell_type": "code",
   "execution_count": 18,
   "id": "43fe2614",
   "metadata": {},
   "outputs": [
    {
     "name": "stdout",
     "output_type": "stream",
     "text": [
      "{'Creature of Habit': 'A nun turns into a monster', 'Crewel Fate': 'A haunted yarn shop'}\n"
     ]
    }
   ],
   "source": [
    "\"\"\"\n",
    "11. Use zip() to make a dictionary called movies that pairs these lists: titles = [Creature of Habit,\n",
    "Crewel Fate] and plots = [A nun turns into a monster, A haunted yarn shop].\n",
    "Ans:\n",
    "\"\"\"\n",
    "titles = ['Creature of Habit', 'Crewel Fate']\n",
    "plots = ['A nun turns into a monster', 'A haunted yarn shop']\n",
    "\n",
    "movies = {}\n",
    "for titles, plots in zip(titles, plots):\n",
    "    movies[titles] = plots\n",
    "print(movies)"
   ]
  },
  {
   "cell_type": "code",
   "execution_count": null,
   "id": "baca325b",
   "metadata": {},
   "outputs": [],
   "source": []
  }
 ],
 "metadata": {
  "kernelspec": {
   "display_name": "Python 3 (ipykernel)",
   "language": "python",
   "name": "python3"
  },
  "language_info": {
   "codemirror_mode": {
    "name": "ipython",
    "version": 3
   },
   "file_extension": ".py",
   "mimetype": "text/x-python",
   "name": "python",
   "nbconvert_exporter": "python",
   "pygments_lexer": "ipython3",
   "version": "3.9.12"
  }
 },
 "nbformat": 4,
 "nbformat_minor": 5
}
